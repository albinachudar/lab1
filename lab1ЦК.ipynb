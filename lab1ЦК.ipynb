{
  "nbformat": 4,
  "nbformat_minor": 0,
  "metadata": {
    "colab": {
      "provenance": [],
      "authorship_tag": "ABX9TyOIJLSx5w+uIIJsNpxXcnIb",
      "include_colab_link": true
    },
    "kernelspec": {
      "name": "python3",
      "display_name": "Python 3"
    },
    "language_info": {
      "name": "python"
    }
  },
  "cells": [
    {
      "cell_type": "markdown",
      "metadata": {
        "id": "view-in-github",
        "colab_type": "text"
      },
      "source": [
        "<a href=\"https://colab.research.google.com/github/albinachudar/lab1/blob/main/lab1%D0%A6%D0%9A.ipynb\" target=\"_parent\"><img src=\"https://colab.research.google.com/assets/colab-badge.svg\" alt=\"Open In Colab\"/></a>"
      ]
    },
    {
      "cell_type": "markdown",
      "source": [
        "Heart Attack Analysis"
      ],
      "metadata": {
        "id": "_50UL4o15dnS"
      }
    },
    {
      "cell_type": "markdown",
      "source": [
        "**Age** : Возраст пациента\n",
        "\n",
        "**Sex** : Пол пациента (0-мужчина, 1-женщина)\n",
        "\n",
        "**cp** : Тип боли в груди\n",
        "\n",
        "\n",
        "1.   типичная стенокардия\n",
        "2.   атипичная стенокардия\n",
        "3. неангинозная боль\n",
        "4. бессимптомный\n",
        "\n",
        "**trtbps** : артериальное давление в покое (в мм рт. ст.)\n",
        "\n",
        "**chol** : холестораль в мг/дл, полученный с помощью датчика ИМТ\n",
        "\n",
        "**fbs** : уровень сахара в крови натощак > 120 мг/дл (1 = да; 0 = нет)\n",
        "\n",
        "**rest_ecg** : результаты электрокардиографии в покое\n",
        "0.   нормальный\n",
        "1.   наличие аномалии ST-T\n",
        "2. указание на возможную или определенную гипертрофию левого желудочка по критериям Эстеса.\n",
        "\n",
        "**thalach** : достигнута максимальная частота сердечных сокращений\n",
        "\n",
        "**oldpeak** - Previous peak\n",
        "\n",
        "**slp** - Slope\n",
        "\n",
        "**ca**: количество крупных сосудов (0-3)\n",
        "\n",
        "**exang**: стенокардия, вызванная физической нагрузкой (1 = да; 0 = нет)\n",
        "\n",
        "**thall** - Thalium Stress Test result\n",
        "\n",
        "**output** : целевая переменная: 0 = меньше вероятность сердечного приступа 1 = больше вероятность сердечного приступа"
      ],
      "metadata": {
        "id": "08qJ4vIAVAUS"
      }
    },
    {
      "cell_type": "markdown",
      "source": [
        "###Step 1. Files upload"
      ],
      "metadata": {
        "id": "OBOhBYnwLvbp"
      }
    },
    {
      "cell_type": "code",
      "execution_count": 96,
      "metadata": {
        "id": "v7FWTJdy5cMs"
      },
      "outputs": [],
      "source": [
        "# из библиотеки google.colab импортируем класс files\n",
        "from google.colab import files"
      ]
    },
    {
      "cell_type": "code",
      "source": [
        "# создаем объект этого класса, применяем метод .upload()\n",
        "uploaded = files.upload()"
      ],
      "metadata": {
        "colab": {
          "base_uri": "https://localhost:8080/",
          "height": 74
        },
        "id": "BHT7_9tM5yqx",
        "outputId": "e18f3a86-0d49-4372-d2cb-7f3c4c164c0a"
      },
      "execution_count": 97,
      "outputs": [
        {
          "output_type": "display_data",
          "data": {
            "text/plain": [
              "<IPython.core.display.HTML object>"
            ],
            "text/html": [
              "\n",
              "     <input type=\"file\" id=\"files-9fa7b5f6-2833-4939-8760-a3d03c6ac8aa\" name=\"files[]\" multiple disabled\n",
              "        style=\"border:none\" />\n",
              "     <output id=\"result-9fa7b5f6-2833-4939-8760-a3d03c6ac8aa\">\n",
              "      Upload widget is only available when the cell has been executed in the\n",
              "      current browser session. Please rerun this cell to enable.\n",
              "      </output>\n",
              "      <script>// Copyright 2017 Google LLC\n",
              "//\n",
              "// Licensed under the Apache License, Version 2.0 (the \"License\");\n",
              "// you may not use this file except in compliance with the License.\n",
              "// You may obtain a copy of the License at\n",
              "//\n",
              "//      http://www.apache.org/licenses/LICENSE-2.0\n",
              "//\n",
              "// Unless required by applicable law or agreed to in writing, software\n",
              "// distributed under the License is distributed on an \"AS IS\" BASIS,\n",
              "// WITHOUT WARRANTIES OR CONDITIONS OF ANY KIND, either express or implied.\n",
              "// See the License for the specific language governing permissions and\n",
              "// limitations under the License.\n",
              "\n",
              "/**\n",
              " * @fileoverview Helpers for google.colab Python module.\n",
              " */\n",
              "(function(scope) {\n",
              "function span(text, styleAttributes = {}) {\n",
              "  const element = document.createElement('span');\n",
              "  element.textContent = text;\n",
              "  for (const key of Object.keys(styleAttributes)) {\n",
              "    element.style[key] = styleAttributes[key];\n",
              "  }\n",
              "  return element;\n",
              "}\n",
              "\n",
              "// Max number of bytes which will be uploaded at a time.\n",
              "const MAX_PAYLOAD_SIZE = 100 * 1024;\n",
              "\n",
              "function _uploadFiles(inputId, outputId) {\n",
              "  const steps = uploadFilesStep(inputId, outputId);\n",
              "  const outputElement = document.getElementById(outputId);\n",
              "  // Cache steps on the outputElement to make it available for the next call\n",
              "  // to uploadFilesContinue from Python.\n",
              "  outputElement.steps = steps;\n",
              "\n",
              "  return _uploadFilesContinue(outputId);\n",
              "}\n",
              "\n",
              "// This is roughly an async generator (not supported in the browser yet),\n",
              "// where there are multiple asynchronous steps and the Python side is going\n",
              "// to poll for completion of each step.\n",
              "// This uses a Promise to block the python side on completion of each step,\n",
              "// then passes the result of the previous step as the input to the next step.\n",
              "function _uploadFilesContinue(outputId) {\n",
              "  const outputElement = document.getElementById(outputId);\n",
              "  const steps = outputElement.steps;\n",
              "\n",
              "  const next = steps.next(outputElement.lastPromiseValue);\n",
              "  return Promise.resolve(next.value.promise).then((value) => {\n",
              "    // Cache the last promise value to make it available to the next\n",
              "    // step of the generator.\n",
              "    outputElement.lastPromiseValue = value;\n",
              "    return next.value.response;\n",
              "  });\n",
              "}\n",
              "\n",
              "/**\n",
              " * Generator function which is called between each async step of the upload\n",
              " * process.\n",
              " * @param {string} inputId Element ID of the input file picker element.\n",
              " * @param {string} outputId Element ID of the output display.\n",
              " * @return {!Iterable<!Object>} Iterable of next steps.\n",
              " */\n",
              "function* uploadFilesStep(inputId, outputId) {\n",
              "  const inputElement = document.getElementById(inputId);\n",
              "  inputElement.disabled = false;\n",
              "\n",
              "  const outputElement = document.getElementById(outputId);\n",
              "  outputElement.innerHTML = '';\n",
              "\n",
              "  const pickedPromise = new Promise((resolve) => {\n",
              "    inputElement.addEventListener('change', (e) => {\n",
              "      resolve(e.target.files);\n",
              "    });\n",
              "  });\n",
              "\n",
              "  const cancel = document.createElement('button');\n",
              "  inputElement.parentElement.appendChild(cancel);\n",
              "  cancel.textContent = 'Cancel upload';\n",
              "  const cancelPromise = new Promise((resolve) => {\n",
              "    cancel.onclick = () => {\n",
              "      resolve(null);\n",
              "    };\n",
              "  });\n",
              "\n",
              "  // Wait for the user to pick the files.\n",
              "  const files = yield {\n",
              "    promise: Promise.race([pickedPromise, cancelPromise]),\n",
              "    response: {\n",
              "      action: 'starting',\n",
              "    }\n",
              "  };\n",
              "\n",
              "  cancel.remove();\n",
              "\n",
              "  // Disable the input element since further picks are not allowed.\n",
              "  inputElement.disabled = true;\n",
              "\n",
              "  if (!files) {\n",
              "    return {\n",
              "      response: {\n",
              "        action: 'complete',\n",
              "      }\n",
              "    };\n",
              "  }\n",
              "\n",
              "  for (const file of files) {\n",
              "    const li = document.createElement('li');\n",
              "    li.append(span(file.name, {fontWeight: 'bold'}));\n",
              "    li.append(span(\n",
              "        `(${file.type || 'n/a'}) - ${file.size} bytes, ` +\n",
              "        `last modified: ${\n",
              "            file.lastModifiedDate ? file.lastModifiedDate.toLocaleDateString() :\n",
              "                                    'n/a'} - `));\n",
              "    const percent = span('0% done');\n",
              "    li.appendChild(percent);\n",
              "\n",
              "    outputElement.appendChild(li);\n",
              "\n",
              "    const fileDataPromise = new Promise((resolve) => {\n",
              "      const reader = new FileReader();\n",
              "      reader.onload = (e) => {\n",
              "        resolve(e.target.result);\n",
              "      };\n",
              "      reader.readAsArrayBuffer(file);\n",
              "    });\n",
              "    // Wait for the data to be ready.\n",
              "    let fileData = yield {\n",
              "      promise: fileDataPromise,\n",
              "      response: {\n",
              "        action: 'continue',\n",
              "      }\n",
              "    };\n",
              "\n",
              "    // Use a chunked sending to avoid message size limits. See b/62115660.\n",
              "    let position = 0;\n",
              "    do {\n",
              "      const length = Math.min(fileData.byteLength - position, MAX_PAYLOAD_SIZE);\n",
              "      const chunk = new Uint8Array(fileData, position, length);\n",
              "      position += length;\n",
              "\n",
              "      const base64 = btoa(String.fromCharCode.apply(null, chunk));\n",
              "      yield {\n",
              "        response: {\n",
              "          action: 'append',\n",
              "          file: file.name,\n",
              "          data: base64,\n",
              "        },\n",
              "      };\n",
              "\n",
              "      let percentDone = fileData.byteLength === 0 ?\n",
              "          100 :\n",
              "          Math.round((position / fileData.byteLength) * 100);\n",
              "      percent.textContent = `${percentDone}% done`;\n",
              "\n",
              "    } while (position < fileData.byteLength);\n",
              "  }\n",
              "\n",
              "  // All done.\n",
              "  yield {\n",
              "    response: {\n",
              "      action: 'complete',\n",
              "    }\n",
              "  };\n",
              "}\n",
              "\n",
              "scope.google = scope.google || {};\n",
              "scope.google.colab = scope.google.colab || {};\n",
              "scope.google.colab._files = {\n",
              "  _uploadFiles,\n",
              "  _uploadFilesContinue,\n",
              "};\n",
              "})(self);\n",
              "</script> "
            ]
          },
          "metadata": {}
        },
        {
          "output_type": "stream",
          "name": "stdout",
          "text": [
            "Saving heart.csv to heart (2).csv\n"
          ]
        }
      ]
    },
    {
      "cell_type": "code",
      "source": [
        "# посмотрим на содержимое словаря uploaded\n",
        "uploaded"
      ],
      "metadata": {
        "id": "5oWElEvL5733",
        "colab": {
          "base_uri": "https://localhost:8080/"
        },
        "outputId": "46986c46-858e-47c7-ca1b-acae173cae19"
      },
      "execution_count": 98,
      "outputs": [
        {
          "output_type": "execute_result",
          "data": {
            "text/plain": [
              "{'heart.csv': b'age,sex,cp,trtbps,chol,fbs,restecg,thalachh,exng,oldpeak,slp,caa,thall,output\\r\\n63,1,3,145,233,1,0,150,0,2.3,0,0,1,1\\r\\n37,1,2,130,250,0,1,187,0,3.5,0,0,2,1\\r\\n41,0,1,130,204,0,0,172,0,1.4,2,0,2,1\\r\\n56,1,1,120,236,0,1,178,0,0.8,2,0,2,1\\r\\n57,0,0,120,354,0,1,163,1,0.6,2,0,2,1\\r\\n57,1,0,140,192,0,1,148,0,0.4,1,0,1,1\\r\\n56,0,1,140,294,0,0,153,0,1.3,1,0,2,1\\r\\n44,1,1,120,263,0,1,173,0,0,2,0,3,1\\r\\n52,1,2,172,199,1,1,162,0,0.5,2,0,3,1\\r\\n57,1,2,150,168,0,1,174,0,1.6,2,0,2,1\\r\\n54,1,0,140,239,0,1,160,0,1.2,2,0,2,1\\r\\n48,0,2,130,275,0,1,139,0,0.2,2,0,2,1\\r\\n49,1,1,130,266,0,1,171,0,0.6,2,0,2,1\\r\\n64,1,3,110,211,0,0,144,1,1.8,1,0,2,1\\r\\n58,0,3,150,283,1,0,162,0,1,2,0,2,1\\r\\n50,0,2,120,219,0,1,158,0,1.6,1,0,2,1\\r\\n58,0,2,120,340,0,1,172,0,0,2,0,2,1\\r\\n66,0,3,150,226,0,1,114,0,2.6,0,0,2,1\\r\\n43,1,0,150,247,0,1,171,0,1.5,2,0,2,1\\r\\n69,0,3,140,239,0,1,151,0,1.8,2,2,2,1\\r\\n59,1,0,135,234,0,1,161,0,0.5,1,0,3,1\\r\\n44,1,2,130,233,0,1,179,1,0.4,2,0,2,1\\r\\n42,1,0,140,226,0,1,178,0,0,2,0,2,1\\r\\n61,1,2,150,243,1,1,137,1,1,1,0,2,1\\r\\n40,1,3,140,199,0,1,178,1,1.4,2,0,3,1\\r\\n71,0,1,160,302,0,1,162,0,0.4,2,2,2,1\\r\\n59,1,2,150,212,1,1,157,0,1.6,2,0,2,1\\r\\n51,1,2,110,175,0,1,123,0,0.6,2,0,2,1\\r\\n65,0,2,140,417,1,0,157,0,0.8,2,1,2,1\\r\\n53,1,2,130,197,1,0,152,0,1.2,0,0,2,1\\r\\n41,0,1,105,198,0,1,168,0,0,2,1,2,1\\r\\n65,1,0,120,177,0,1,140,0,0.4,2,0,3,1\\r\\n44,1,1,130,219,0,0,188,0,0,2,0,2,1\\r\\n54,1,2,125,273,0,0,152,0,0.5,0,1,2,1\\r\\n51,1,3,125,213,0,0,125,1,1.4,2,1,2,1\\r\\n46,0,2,142,177,0,0,160,1,1.4,0,0,2,1\\r\\n54,0,2,135,304,1,1,170,0,0,2,0,2,1\\r\\n54,1,2,150,232,0,0,165,0,1.6,2,0,3,1\\r\\n65,0,2,155,269,0,1,148,0,0.8,2,0,2,1\\r\\n65,0,2,160,360,0,0,151,0,0.8,2,0,2,1\\r\\n51,0,2,140,308,0,0,142,0,1.5,2,1,2,1\\r\\n48,1,1,130,245,0,0,180,0,0.2,1,0,2,1\\r\\n45,1,0,104,208,0,0,148,1,3,1,0,2,1\\r\\n53,0,0,130,264,0,0,143,0,0.4,1,0,2,1\\r\\n39,1,2,140,321,0,0,182,0,0,2,0,2,1\\r\\n52,1,1,120,325,0,1,172,0,0.2,2,0,2,1\\r\\n44,1,2,140,235,0,0,180,0,0,2,0,2,1\\r\\n47,1,2,138,257,0,0,156,0,0,2,0,2,1\\r\\n53,0,2,128,216,0,0,115,0,0,2,0,0,1\\r\\n53,0,0,138,234,0,0,160,0,0,2,0,2,1\\r\\n51,0,2,130,256,0,0,149,0,0.5,2,0,2,1\\r\\n66,1,0,120,302,0,0,151,0,0.4,1,0,2,1\\r\\n62,1,2,130,231,0,1,146,0,1.8,1,3,3,1\\r\\n44,0,2,108,141,0,1,175,0,0.6,1,0,2,1\\r\\n63,0,2,135,252,0,0,172,0,0,2,0,2,1\\r\\n52,1,1,134,201,0,1,158,0,0.8,2,1,2,1\\r\\n48,1,0,122,222,0,0,186,0,0,2,0,2,1\\r\\n45,1,0,115,260,0,0,185,0,0,2,0,2,1\\r\\n34,1,3,118,182,0,0,174,0,0,2,0,2,1\\r\\n57,0,0,128,303,0,0,159,0,0,2,1,2,1\\r\\n71,0,2,110,265,1,0,130,0,0,2,1,2,1\\r\\n54,1,1,108,309,0,1,156,0,0,2,0,3,1\\r\\n52,1,3,118,186,0,0,190,0,0,1,0,1,1\\r\\n41,1,1,135,203,0,1,132,0,0,1,0,1,1\\r\\n58,1,2,140,211,1,0,165,0,0,2,0,2,1\\r\\n35,0,0,138,183,0,1,182,0,1.4,2,0,2,1\\r\\n51,1,2,100,222,0,1,143,1,1.2,1,0,2,1\\r\\n45,0,1,130,234,0,0,175,0,0.6,1,0,2,1\\r\\n44,1,1,120,220,0,1,170,0,0,2,0,2,1\\r\\n62,0,0,124,209,0,1,163,0,0,2,0,2,1\\r\\n54,1,2,120,258,0,0,147,0,0.4,1,0,3,1\\r\\n51,1,2,94,227,0,1,154,1,0,2,1,3,1\\r\\n29,1,1,130,204,0,0,202,0,0,2,0,2,1\\r\\n51,1,0,140,261,0,0,186,1,0,2,0,2,1\\r\\n43,0,2,122,213,0,1,165,0,0.2,1,0,2,1\\r\\n55,0,1,135,250,0,0,161,0,1.4,1,0,2,1\\r\\n51,1,2,125,245,1,0,166,0,2.4,1,0,2,1\\r\\n59,1,1,140,221,0,1,164,1,0,2,0,2,1\\r\\n52,1,1,128,205,1,1,184,0,0,2,0,2,1\\r\\n58,1,2,105,240,0,0,154,1,0.6,1,0,3,1\\r\\n41,1,2,112,250,0,1,179,0,0,2,0,2,1\\r\\n45,1,1,128,308,0,0,170,0,0,2,0,2,1\\r\\n60,0,2,102,318,0,1,160,0,0,2,1,2,1\\r\\n52,1,3,152,298,1,1,178,0,1.2,1,0,3,1\\r\\n42,0,0,102,265,0,0,122,0,0.6,1,0,2,1\\r\\n67,0,2,115,564,0,0,160,0,1.6,1,0,3,1\\r\\n68,1,2,118,277,0,1,151,0,1,2,1,3,1\\r\\n46,1,1,101,197,1,1,156,0,0,2,0,3,1\\r\\n54,0,2,110,214,0,1,158,0,1.6,1,0,2,1\\r\\n58,0,0,100,248,0,0,122,0,1,1,0,2,1\\r\\n48,1,2,124,255,1,1,175,0,0,2,2,2,1\\r\\n57,1,0,132,207,0,1,168,1,0,2,0,3,1\\r\\n52,1,2,138,223,0,1,169,0,0,2,4,2,1\\r\\n54,0,1,132,288,1,0,159,1,0,2,1,2,1\\r\\n45,0,1,112,160,0,1,138,0,0,1,0,2,1\\r\\n53,1,0,142,226,0,0,111,1,0,2,0,3,1\\r\\n62,0,0,140,394,0,0,157,0,1.2,1,0,2,1\\r\\n52,1,0,108,233,1,1,147,0,0.1,2,3,3,1\\r\\n43,1,2,130,315,0,1,162,0,1.9,2,1,2,1\\r\\n53,1,2,130,246,1,0,173,0,0,2,3,2,1\\r\\n42,1,3,148,244,0,0,178,0,0.8,2,2,2,1\\r\\n59,1,3,178,270,0,0,145,0,4.2,0,0,3,1\\r\\n63,0,1,140,195,0,1,179,0,0,2,2,2,1\\r\\n42,1,2,120,240,1,1,194,0,0.8,0,0,3,1\\r\\n50,1,2,129,196,0,1,163,0,0,2,0,2,1\\r\\n68,0,2,120,211,0,0,115,0,1.5,1,0,2,1\\r\\n69,1,3,160,234,1,0,131,0,0.1,1,1,2,1\\r\\n45,0,0,138,236,0,0,152,1,0.2,1,0,2,1\\r\\n50,0,1,120,244,0,1,162,0,1.1,2,0,2,1\\r\\n50,0,0,110,254,0,0,159,0,0,2,0,2,1\\r\\n64,0,0,180,325,0,1,154,1,0,2,0,2,1\\r\\n57,1,2,150,126,1,1,173,0,0.2,2,1,3,1\\r\\n64,0,2,140,313,0,1,133,0,0.2,2,0,3,1\\r\\n43,1,0,110,211,0,1,161,0,0,2,0,3,1\\r\\n55,1,1,130,262,0,1,155,0,0,2,0,2,1\\r\\n37,0,2,120,215,0,1,170,0,0,2,0,2,1\\r\\n41,1,2,130,214,0,0,168,0,2,1,0,2,1\\r\\n56,1,3,120,193,0,0,162,0,1.9,1,0,3,1\\r\\n46,0,1,105,204,0,1,172,0,0,2,0,2,1\\r\\n46,0,0,138,243,0,0,152,1,0,1,0,2,1\\r\\n64,0,0,130,303,0,1,122,0,2,1,2,2,1\\r\\n59,1,0,138,271,0,0,182,0,0,2,0,2,1\\r\\n41,0,2,112,268,0,0,172,1,0,2,0,2,1\\r\\n54,0,2,108,267,0,0,167,0,0,2,0,2,1\\r\\n39,0,2,94,199,0,1,179,0,0,2,0,2,1\\r\\n34,0,1,118,210,0,1,192,0,0.7,2,0,2,1\\r\\n47,1,0,112,204,0,1,143,0,0.1,2,0,2,1\\r\\n67,0,2,152,277,0,1,172,0,0,2,1,2,1\\r\\n52,0,2,136,196,0,0,169,0,0.1,1,0,2,1\\r\\n74,0,1,120,269,0,0,121,1,0.2,2,1,2,1\\r\\n54,0,2,160,201,0,1,163,0,0,2,1,2,1\\r\\n49,0,1,134,271,0,1,162,0,0,1,0,2,1\\r\\n42,1,1,120,295,0,1,162,0,0,2,0,2,1\\r\\n41,1,1,110,235,0,1,153,0,0,2,0,2,1\\r\\n41,0,1,126,306,0,1,163,0,0,2,0,2,1\\r\\n49,0,0,130,269,0,1,163,0,0,2,0,2,1\\r\\n60,0,2,120,178,1,1,96,0,0,2,0,2,1\\r\\n62,1,1,128,208,1,0,140,0,0,2,0,2,1\\r\\n57,1,0,110,201,0,1,126,1,1.5,1,0,1,1\\r\\n64,1,0,128,263,0,1,105,1,0.2,1,1,3,1\\r\\n51,0,2,120,295,0,0,157,0,0.6,2,0,2,1\\r\\n43,1,0,115,303,0,1,181,0,1.2,1,0,2,1\\r\\n42,0,2,120,209,0,1,173,0,0,1,0,2,1\\r\\n67,0,0,106,223,0,1,142,0,0.3,2,2,2,1\\r\\n76,0,2,140,197,0,2,116,0,1.1,1,0,2,1\\r\\n70,1,1,156,245,0,0,143,0,0,2,0,2,1\\r\\n44,0,2,118,242,0,1,149,0,0.3,1,1,2,1\\r\\n60,0,3,150,240,0,1,171,0,0.9,2,0,2,1\\r\\n44,1,2,120,226,0,1,169,0,0,2,0,2,1\\r\\n42,1,2,130,180,0,1,150,0,0,2,0,2,1\\r\\n66,1,0,160,228,0,0,138,0,2.3,2,0,1,1\\r\\n71,0,0,112,149,0,1,125,0,1.6,1,0,2,1\\r\\n64,1,3,170,227,0,0,155,0,0.6,1,0,3,1\\r\\n66,0,2,146,278,0,0,152,0,0,1,1,2,1\\r\\n39,0,2,138,220,0,1,152,0,0,1,0,2,1\\r\\n58,0,0,130,197,0,1,131,0,0.6,1,0,2,1\\r\\n47,1,2,130,253,0,1,179,0,0,2,0,2,1\\r\\n35,1,1,122,192,0,1,174,0,0,2,0,2,1\\r\\n58,1,1,125,220,0,1,144,0,0.4,1,4,3,1\\r\\n56,1,1,130,221,0,0,163,0,0,2,0,3,1\\r\\n56,1,1,120,240,0,1,169,0,0,0,0,2,1\\r\\n55,0,1,132,342,0,1,166,0,1.2,2,0,2,1\\r\\n41,1,1,120,157,0,1,182,0,0,2,0,2,1\\r\\n38,1,2,138,175,0,1,173,0,0,2,4,2,1\\r\\n38,1,2,138,175,0,1,173,0,0,2,4,2,1\\r\\n67,1,0,160,286,0,0,108,1,1.5,1,3,2,0\\r\\n67,1,0,120,229,0,0,129,1,2.6,1,2,3,0\\r\\n62,0,0,140,268,0,0,160,0,3.6,0,2,2,0\\r\\n63,1,0,130,254,0,0,147,0,1.4,1,1,3,0\\r\\n53,1,0,140,203,1,0,155,1,3.1,0,0,3,0\\r\\n56,1,2,130,256,1,0,142,1,0.6,1,1,1,0\\r\\n48,1,1,110,229,0,1,168,0,1,0,0,3,0\\r\\n58,1,1,120,284,0,0,160,0,1.8,1,0,2,0\\r\\n58,1,2,132,224,0,0,173,0,3.2,2,2,3,0\\r\\n60,1,0,130,206,0,0,132,1,2.4,1,2,3,0\\r\\n40,1,0,110,167,0,0,114,1,2,1,0,3,0\\r\\n60,1,0,117,230,1,1,160,1,1.4,2,2,3,0\\r\\n64,1,2,140,335,0,1,158,0,0,2,0,2,0\\r\\n43,1,0,120,177,0,0,120,1,2.5,1,0,3,0\\r\\n57,1,0,150,276,0,0,112,1,0.6,1,1,1,0\\r\\n55,1,0,132,353,0,1,132,1,1.2,1,1,3,0\\r\\n65,0,0,150,225,0,0,114,0,1,1,3,3,0\\r\\n61,0,0,130,330,0,0,169,0,0,2,0,2,0\\r\\n58,1,2,112,230,0,0,165,0,2.5,1,1,3,0\\r\\n50,1,0,150,243,0,0,128,0,2.6,1,0,3,0\\r\\n44,1,0,112,290,0,0,153,0,0,2,1,2,0\\r\\n60,1,0,130,253,0,1,144,1,1.4,2,1,3,0\\r\\n54,1,0,124,266,0,0,109,1,2.2,1,1,3,0\\r\\n50,1,2,140,233,0,1,163,0,0.6,1,1,3,0\\r\\n41,1,0,110,172,0,0,158,0,0,2,0,3,0\\r\\n51,0,0,130,305,0,1,142,1,1.2,1,0,3,0\\r\\n58,1,0,128,216,0,0,131,1,2.2,1,3,3,0\\r\\n54,1,0,120,188,0,1,113,0,1.4,1,1,3,0\\r\\n60,1,0,145,282,0,0,142,1,2.8,1,2,3,0\\r\\n60,1,2,140,185,0,0,155,0,3,1,0,2,0\\r\\n59,1,0,170,326,0,0,140,1,3.4,0,0,3,0\\r\\n46,1,2,150,231,0,1,147,0,3.6,1,0,2,0\\r\\n67,1,0,125,254,1,1,163,0,0.2,1,2,3,0\\r\\n62,1,0,120,267,0,1,99,1,1.8,1,2,3,0\\r\\n65,1,0,110,248,0,0,158,0,0.6,2,2,1,0\\r\\n44,1,0,110,197,0,0,177,0,0,2,1,2,0\\r\\n60,1,0,125,258,0,0,141,1,2.8,1,1,3,0\\r\\n58,1,0,150,270,0,0,111,1,0.8,2,0,3,0\\r\\n68,1,2,180,274,1,0,150,1,1.6,1,0,3,0\\r\\n62,0,0,160,164,0,0,145,0,6.2,0,3,3,0\\r\\n52,1,0,128,255,0,1,161,1,0,2,1,3,0\\r\\n59,1,0,110,239,0,0,142,1,1.2,1,1,3,0\\r\\n60,0,0,150,258,0,0,157,0,2.6,1,2,3,0\\r\\n49,1,2,120,188,0,1,139,0,2,1,3,3,0\\r\\n59,1,0,140,177,0,1,162,1,0,2,1,3,0\\r\\n57,1,2,128,229,0,0,150,0,0.4,1,1,3,0\\r\\n61,1,0,120,260,0,1,140,1,3.6,1,1,3,0\\r\\n39,1,0,118,219,0,1,140,0,1.2,1,0,3,0\\r\\n61,0,0,145,307,0,0,146,1,1,1,0,3,0\\r\\n56,1,0,125,249,1,0,144,1,1.2,1,1,2,0\\r\\n43,0,0,132,341,1,0,136,1,3,1,0,3,0\\r\\n62,0,2,130,263,0,1,97,0,1.2,1,1,3,0\\r\\n63,1,0,130,330,1,0,132,1,1.8,2,3,3,0\\r\\n65,1,0,135,254,0,0,127,0,2.8,1,1,3,0\\r\\n48,1,0,130,256,1,0,150,1,0,2,2,3,0\\r\\n63,0,0,150,407,0,0,154,0,4,1,3,3,0\\r\\n55,1,0,140,217,0,1,111,1,5.6,0,0,3,0\\r\\n65,1,3,138,282,1,0,174,0,1.4,1,1,2,0\\r\\n56,0,0,200,288,1,0,133,1,4,0,2,3,0\\r\\n54,1,0,110,239,0,1,126,1,2.8,1,1,3,0\\r\\n70,1,0,145,174,0,1,125,1,2.6,0,0,3,0\\r\\n62,1,1,120,281,0,0,103,0,1.4,1,1,3,0\\r\\n35,1,0,120,198,0,1,130,1,1.6,1,0,3,0\\r\\n59,1,3,170,288,0,0,159,0,0.2,1,0,3,0\\r\\n64,1,2,125,309,0,1,131,1,1.8,1,0,3,0\\r\\n47,1,2,108,243,0,1,152,0,0,2,0,2,0\\r\\n57,1,0,165,289,1,0,124,0,1,1,3,3,0\\r\\n55,1,0,160,289,0,0,145,1,0.8,1,1,3,0\\r\\n64,1,0,120,246,0,0,96,1,2.2,0,1,2,0\\r\\n70,1,0,130,322,0,0,109,0,2.4,1,3,2,0\\r\\n51,1,0,140,299,0,1,173,1,1.6,2,0,3,0\\r\\n58,1,0,125,300,0,0,171,0,0,2,2,3,0\\r\\n60,1,0,140,293,0,0,170,0,1.2,1,2,3,0\\r\\n77,1,0,125,304,0,0,162,1,0,2,3,2,0\\r\\n35,1,0,126,282,0,0,156,1,0,2,0,3,0\\r\\n70,1,2,160,269,0,1,112,1,2.9,1,1,3,0\\r\\n59,0,0,174,249,0,1,143,1,0,1,0,2,0\\r\\n64,1,0,145,212,0,0,132,0,2,1,2,1,0\\r\\n57,1,0,152,274,0,1,88,1,1.2,1,1,3,0\\r\\n56,1,0,132,184,0,0,105,1,2.1,1,1,1,0\\r\\n48,1,0,124,274,0,0,166,0,0.5,1,0,3,0\\r\\n56,0,0,134,409,0,0,150,1,1.9,1,2,3,0\\r\\n66,1,1,160,246,0,1,120,1,0,1,3,1,0\\r\\n54,1,1,192,283,0,0,195,0,0,2,1,3,0\\r\\n69,1,2,140,254,0,0,146,0,2,1,3,3,0\\r\\n51,1,0,140,298,0,1,122,1,4.2,1,3,3,0\\r\\n43,1,0,132,247,1,0,143,1,0.1,1,4,3,0\\r\\n62,0,0,138,294,1,1,106,0,1.9,1,3,2,0\\r\\n67,1,0,100,299,0,0,125,1,0.9,1,2,2,0\\r\\n59,1,3,160,273,0,0,125,0,0,2,0,2,0\\r\\n45,1,0,142,309,0,0,147,1,0,1,3,3,0\\r\\n58,1,0,128,259,0,0,130,1,3,1,2,3,0\\r\\n50,1,0,144,200,0,0,126,1,0.9,1,0,3,0\\r\\n62,0,0,150,244,0,1,154,1,1.4,1,0,2,0\\r\\n38,1,3,120,231,0,1,182,1,3.8,1,0,3,0\\r\\n66,0,0,178,228,1,1,165,1,1,1,2,3,0\\r\\n52,1,0,112,230,0,1,160,0,0,2,1,2,0\\r\\n53,1,0,123,282,0,1,95,1,2,1,2,3,0\\r\\n63,0,0,108,269,0,1,169,1,1.8,1,2,2,0\\r\\n54,1,0,110,206,0,0,108,1,0,1,1,2,0\\r\\n66,1,0,112,212,0,0,132,1,0.1,2,1,2,0\\r\\n55,0,0,180,327,0,2,117,1,3.4,1,0,2,0\\r\\n49,1,2,118,149,0,0,126,0,0.8,2,3,2,0\\r\\n54,1,0,122,286,0,0,116,1,3.2,1,2,2,0\\r\\n56,1,0,130,283,1,0,103,1,1.6,0,0,3,0\\r\\n46,1,0,120,249,0,0,144,0,0.8,2,0,3,0\\r\\n61,1,3,134,234,0,1,145,0,2.6,1,2,2,0\\r\\n67,1,0,120,237,0,1,71,0,1,1,0,2,0\\r\\n58,1,0,100,234,0,1,156,0,0.1,2,1,3,0\\r\\n47,1,0,110,275,0,0,118,1,1,1,1,2,0\\r\\n52,1,0,125,212,0,1,168,0,1,2,2,3,0\\r\\n58,1,0,146,218,0,1,105,0,2,1,1,3,0\\r\\n57,1,1,124,261,0,1,141,0,0.3,2,0,3,0\\r\\n58,0,1,136,319,1,0,152,0,0,2,2,2,0\\r\\n61,1,0,138,166,0,0,125,1,3.6,1,1,2,0\\r\\n42,1,0,136,315,0,1,125,1,1.8,1,0,1,0\\r\\n52,1,0,128,204,1,1,156,1,1,1,0,0,0\\r\\n59,1,2,126,218,1,1,134,0,2.2,1,1,1,0\\r\\n40,1,0,152,223,0,1,181,0,0,2,0,3,0\\r\\n61,1,0,140,207,0,0,138,1,1.9,2,1,3,0\\r\\n46,1,0,140,311,0,1,120,1,1.8,1,2,3,0\\r\\n59,1,3,134,204,0,1,162,0,0.8,2,2,2,0\\r\\n57,1,1,154,232,0,0,164,0,0,2,1,2,0\\r\\n57,1,0,110,335,0,1,143,1,3,1,1,3,0\\r\\n55,0,0,128,205,0,2,130,1,2,1,1,3,0\\r\\n61,1,0,148,203,0,1,161,0,0,2,1,3,0\\r\\n58,1,0,114,318,0,2,140,0,4.4,0,3,1,0\\r\\n58,0,0,170,225,1,0,146,1,2.8,1,2,1,0\\r\\n67,1,2,152,212,0,0,150,0,0.8,1,0,3,0\\r\\n44,1,0,120,169,0,1,144,1,2.8,0,0,1,0\\r\\n63,1,0,140,187,0,0,144,1,4,2,2,3,0\\r\\n63,0,0,124,197,0,1,136,1,0,1,0,2,0\\r\\n59,1,0,164,176,1,0,90,0,1,1,2,1,0\\r\\n57,0,0,140,241,0,1,123,1,0.2,1,0,3,0\\r\\n45,1,3,110,264,0,1,132,0,1.2,1,0,3,0\\r\\n68,1,0,144,193,1,1,141,0,3.4,1,2,3,0\\r\\n57,1,0,130,131,0,1,115,1,1.2,1,1,3,0\\r\\n57,0,1,130,236,0,0,174,0,0,1,1,2,0\\r\\n'}"
            ]
          },
          "metadata": {},
          "execution_count": 98
        }
      ]
    },
    {
      "cell_type": "markdown",
      "source": [
        "###Step 2. Reading files"
      ],
      "metadata": {
        "id": "Y8MDEnoKMsgg"
      }
    },
    {
      "cell_type": "markdown",
      "source": [
        "####Viewing the contents of a folder /content/"
      ],
      "metadata": {
        "id": "fp7-s3XJNkVi"
      }
    },
    {
      "cell_type": "code",
      "source": [
        "# импортируем модуль os\n",
        "import os\n",
        "\n",
        "# выводим пути к папкам (dirpath) и наименования файлов (filenames) и после этого\n",
        "for dirpath, _, filenames in os.walk('/content/'):\n",
        "  \n",
        "  # во вложенном цикле проходимся по названиям файлов\n",
        "  for filename in filenames:\n",
        "\n",
        "    # и соединяем путь до папок и входящие в эти папки файлы\n",
        "    # с помощью метода path.join()\n",
        "    print(os.path.join(dirpath, filename))"
      ],
      "metadata": {
        "colab": {
          "base_uri": "https://localhost:8080/"
        },
        "id": "2hkMHTiCM817",
        "outputId": "6460bc25-6bfd-4824-bcf4-09fe192d4493"
      },
      "execution_count": 99,
      "outputs": [
        {
          "output_type": "stream",
          "name": "stdout",
          "text": [
            "/content/heart (1).csv\n",
            "/content/heart.csv\n",
            "/content/heart (2).csv\n",
            "/content/.config/config_sentinel\n",
            "/content/.config/active_config\n",
            "/content/.config/.last_survey_prompt.yaml\n",
            "/content/.config/.last_opt_in_prompt.yaml\n",
            "/content/.config/.last_update_check.json\n",
            "/content/.config/gce\n",
            "/content/.config/configurations/config_default\n",
            "/content/.config/logs/2022.11.10/14.30.00.596844.log\n",
            "/content/.config/logs/2022.11.10/14.29.31.710238.log\n",
            "/content/.config/logs/2022.11.10/14.29.39.558549.log\n",
            "/content/.config/logs/2022.11.10/14.29.12.276315.log\n",
            "/content/.config/logs/2022.11.10/14.29.59.957734.log\n",
            "/content/.config/logs/2022.11.10/14.28.48.780996.log\n",
            "/content/sample_data/README.md\n",
            "/content/sample_data/anscombe.json\n",
            "/content/sample_data/california_housing_train.csv\n",
            "/content/sample_data/mnist_test.csv\n",
            "/content/sample_data/california_housing_test.csv\n",
            "/content/sample_data/mnist_train_small.csv\n"
          ]
        }
      ]
    },
    {
      "cell_type": "markdown",
      "source": [
        "#### Command !ls"
      ],
      "metadata": {
        "id": "1F-V5MAWN1Ft"
      }
    },
    {
      "cell_type": "code",
      "source": [
        "# посмотрим на содержимое папки content\n",
        "!ls"
      ],
      "metadata": {
        "colab": {
          "base_uri": "https://localhost:8080/"
        },
        "id": "zWyQ-mE8N-4d",
        "outputId": "42ca1c58-9389-4a96-a615-dd53421c87b3"
      },
      "execution_count": 100,
      "outputs": [
        {
          "output_type": "stream",
          "name": "stdout",
          "text": [
            "'heart (1).csv'  'heart (2).csv'   heart.csv   sample_data\n"
          ]
        }
      ]
    },
    {
      "cell_type": "code",
      "source": [
        "# заглянем внутрь sample_data\n",
        "!ls /content/sample_data/"
      ],
      "metadata": {
        "colab": {
          "base_uri": "https://localhost:8080/"
        },
        "id": "uKqaY5OiOHkp",
        "outputId": "da0d9759-9b0d-42b1-ad2a-64ff47373eac"
      },
      "execution_count": 101,
      "outputs": [
        {
          "output_type": "stream",
          "name": "stdout",
          "text": [
            "anscombe.json\t\t      mnist_test.csv\n",
            "california_housing_test.csv   mnist_train_small.csv\n",
            "california_housing_train.csv  README.md\n"
          ]
        }
      ]
    },
    {
      "cell_type": "markdown",
      "source": [
        "####Reading from uploaded variable"
      ],
      "metadata": {
        "id": "6z8_xOPCOSy2"
      }
    },
    {
      "cell_type": "code",
      "source": [
        "# посмотрим на тип значений словаря uploaded\n",
        "type(uploaded['heart.csv'])"
      ],
      "metadata": {
        "colab": {
          "base_uri": "https://localhost:8080/"
        },
        "id": "Y_fDrpKCOb5-",
        "outputId": "0a73977b-5311-4093-e7df-b2c99293a5be"
      },
      "execution_count": 102,
      "outputs": [
        {
          "output_type": "execute_result",
          "data": {
            "text/plain": [
              "bytes"
            ]
          },
          "metadata": {},
          "execution_count": 102
        }
      ]
    },
    {
      "cell_type": "markdown",
      "source": [
        "An example of working with the bytes object"
      ],
      "metadata": {
        "id": "_0HsltG7Oj76"
      }
    },
    {
      "cell_type": "code",
      "source": [
        "# обратимся к ключу словаря uploaded и применим метод .decode()\n",
        "uploaded_str = uploaded['heart.csv'].decode()\n",
        "\n",
        "# на выходе получаем обычную строку\n",
        "print(type(uploaded_str))"
      ],
      "metadata": {
        "colab": {
          "base_uri": "https://localhost:8080/"
        },
        "id": "5e0t4P48OnQ-",
        "outputId": "fed9d94a-2d4c-4f23-b1da-550b67a3ebe4"
      },
      "execution_count": 103,
      "outputs": [
        {
          "output_type": "stream",
          "name": "stdout",
          "text": [
            "<class 'str'>\n"
          ]
        }
      ]
    },
    {
      "cell_type": "code",
      "source": [
        "# выведем первые 35 значений\n",
        "print(uploaded_str[:35])"
      ],
      "metadata": {
        "colab": {
          "base_uri": "https://localhost:8080/"
        },
        "id": "6HfKXRlBOuGN",
        "outputId": "00e8d664-23f7-48f3-9912-39c29eab9aeb"
      },
      "execution_count": 104,
      "outputs": [
        {
          "output_type": "stream",
          "name": "stdout",
          "text": [
            "age,sex,cp,trtbps,chol,fbs,restecg,\n"
          ]
        }
      ]
    },
    {
      "cell_type": "code",
      "source": [
        "# если разбить строку методом .split() по символам \\r (возврат к началу строки) и \\n (новая строка)\n",
        "uploaded_list = uploaded_str.split('\\r\\n')\n",
        "\n",
        "# на выходе мы получим список\n",
        "type(uploaded_list)"
      ],
      "metadata": {
        "colab": {
          "base_uri": "https://localhost:8080/"
        },
        "id": "mz1PsfaFO0oW",
        "outputId": "dba80ea5-cc6f-49f1-f869-cd0c2ab24a19"
      },
      "execution_count": 105,
      "outputs": [
        {
          "output_type": "execute_result",
          "data": {
            "text/plain": [
              "list"
            ]
          },
          "metadata": {},
          "execution_count": 105
        }
      ]
    },
    {
      "cell_type": "code",
      "source": [
        "# пройдемся по этому списку, не забыв создать индекс с помощью функции enumerate()\n",
        "for i, line in enumerate(uploaded_list):\n",
        "\n",
        "  # начнем выводить записи\n",
        "  print(line)\n",
        "\n",
        "  # когда дойдем до четвертой строки\n",
        "  if i == 3:\n",
        "\n",
        "    # прервемся\n",
        "    break"
      ],
      "metadata": {
        "colab": {
          "base_uri": "https://localhost:8080/"
        },
        "id": "gVmDeA7PO57S",
        "outputId": "6762497a-cd17-4a24-8f78-d0861f59b62f"
      },
      "execution_count": 106,
      "outputs": [
        {
          "output_type": "stream",
          "name": "stdout",
          "text": [
            "age,sex,cp,trtbps,chol,fbs,restecg,thalachh,exng,oldpeak,slp,caa,thall,output\n",
            "63,1,3,145,233,1,0,150,0,2.3,0,0,1,1\n",
            "37,1,2,130,250,0,1,187,0,3.5,0,0,2,1\n",
            "41,0,1,130,204,0,0,172,0,1.4,2,0,2,1\n"
          ]
        }
      ]
    },
    {
      "cell_type": "markdown",
      "source": [
        "####Using the open() function and the with open() construct"
      ],
      "metadata": {
        "id": "EGYG79UTPBGs"
      }
    },
    {
      "cell_type": "code",
      "source": [
        "# передадим функции open() адрес файла\n",
        "# параметр 'r' означает, что мы хотим прочитать (read) файл\n",
        "f1 = open('/content/heart.csv', 'r')\n",
        "\n",
        "# метод .read() помещает весь файл в одну строку\n",
        "# выведем первые 142 символа (если параметр не указывать, выведется все содержимое)\n",
        "print(f1.read(142))\n",
        "\n",
        "# в конце файл необходимо закрыть\n",
        "f1.close()"
      ],
      "metadata": {
        "colab": {
          "base_uri": "https://localhost:8080/"
        },
        "id": "O89S20sZPDYh",
        "outputId": "7d9d6510-4887-46e2-a76e-0e36b32d99d1"
      },
      "execution_count": 107,
      "outputs": [
        {
          "output_type": "stream",
          "name": "stdout",
          "text": [
            "age,sex,cp,trtbps,chol,fbs,restecg,thalachh,exng,oldpeak,slp,caa,thall,output\n",
            "63,1,3,145,233,1,0,150,0,2.3,0,0,1,1\n",
            "37,1,2,130,250,0,1,187,0,3.\n"
          ]
        }
      ]
    },
    {
      "cell_type": "code",
      "source": [
        "# снова откроем файл\n",
        "f2 = open('/content/heart.csv', 'r')\n",
        "\n",
        "# пройдемся по нашему объекту в цикле for и параллельно создадим индекс\n",
        "for i, line in enumerate(f2):\n",
        "\n",
        "    # выведем строки без служебных символов по краям\n",
        "    print(line.strip())\n",
        "    \n",
        "    # дойдя до четвертой строки, прервемся\n",
        "    if i == 3:\n",
        "      break\n",
        "\n",
        "# не забудем закрыть файл\n",
        "f2.close()"
      ],
      "metadata": {
        "colab": {
          "base_uri": "https://localhost:8080/"
        },
        "id": "t00AMpayPP1t",
        "outputId": "a36c9951-6986-416a-fb58-e117547780a6"
      },
      "execution_count": 108,
      "outputs": [
        {
          "output_type": "stream",
          "name": "stdout",
          "text": [
            "age,sex,cp,trtbps,chol,fbs,restecg,thalachh,exng,oldpeak,slp,caa,thall,output\n",
            "63,1,3,145,233,1,0,150,0,2.3,0,0,1,1\n",
            "37,1,2,130,250,0,1,187,0,3.5,0,0,2,1\n",
            "41,0,1,130,204,0,0,172,0,1.4,2,0,2,1\n"
          ]
        }
      ]
    },
    {
      "cell_type": "code",
      "source": [
        "# скажем Питону: \"открой файл  и назови его f3\"\n",
        "with open('/content/heart.csv', 'r') as f3:\n",
        "\n",
        "  # \"пройдись по строкам без служебных символов\"\n",
        "  for i, line in enumerate(f3):\n",
        "    print(line.strip())\n",
        "    \n",
        "    # и \"прервись на четвертой строке\"\n",
        "    if i == 3:\n",
        "      break"
      ],
      "metadata": {
        "colab": {
          "base_uri": "https://localhost:8080/"
        },
        "id": "-ra8aInETtax",
        "outputId": "bc079195-6012-4f21-ead6-64081de9e5e4"
      },
      "execution_count": 109,
      "outputs": [
        {
          "output_type": "stream",
          "name": "stdout",
          "text": [
            "age,sex,cp,trtbps,chol,fbs,restecg,thalachh,exng,oldpeak,slp,caa,thall,output\n",
            "63,1,3,145,233,1,0,150,0,2.3,0,0,1,1\n",
            "37,1,2,130,250,0,1,187,0,3.5,0,0,2,1\n",
            "41,0,1,130,204,0,0,172,0,1.4,2,0,2,1\n"
          ]
        }
      ]
    },
    {
      "cell_type": "markdown",
      "source": [
        "####Reading through the Pandas library"
      ],
      "metadata": {
        "id": "b88twAbBT_xc"
      }
    },
    {
      "cell_type": "code",
      "source": [
        "# импортируем библиотеку\n",
        "import pandas as pd\n",
        "\n",
        "# применим функцию read_csv() и посмотрим на первые три записи файла heart.csv\n",
        "heart = pd.read_csv('/content/heart.csv')\n",
        "heart.head(3)"
      ],
      "metadata": {
        "colab": {
          "base_uri": "https://localhost:8080/",
          "height": 143
        },
        "id": "rirHD0_pUG5i",
        "outputId": "5cde6443-c7a9-4b2a-dddb-ae70ea26fd59"
      },
      "execution_count": 110,
      "outputs": [
        {
          "output_type": "execute_result",
          "data": {
            "text/plain": [
              "   age  sex  cp  trtbps  chol  fbs  restecg  thalachh  exng  oldpeak  slp  \\\n",
              "0   63    1   3     145   233    1        0       150     0      2.3    0   \n",
              "1   37    1   2     130   250    0        1       187     0      3.5    0   \n",
              "2   41    0   1     130   204    0        0       172     0      1.4    2   \n",
              "\n",
              "   caa  thall  output  \n",
              "0    0      1       1  \n",
              "1    0      2       1  \n",
              "2    0      2       1  "
            ],
            "text/html": [
              "\n",
              "  <div id=\"df-70b8f37f-2577-49b6-b8a4-7f78f7f5c010\">\n",
              "    <div class=\"colab-df-container\">\n",
              "      <div>\n",
              "<style scoped>\n",
              "    .dataframe tbody tr th:only-of-type {\n",
              "        vertical-align: middle;\n",
              "    }\n",
              "\n",
              "    .dataframe tbody tr th {\n",
              "        vertical-align: top;\n",
              "    }\n",
              "\n",
              "    .dataframe thead th {\n",
              "        text-align: right;\n",
              "    }\n",
              "</style>\n",
              "<table border=\"1\" class=\"dataframe\">\n",
              "  <thead>\n",
              "    <tr style=\"text-align: right;\">\n",
              "      <th></th>\n",
              "      <th>age</th>\n",
              "      <th>sex</th>\n",
              "      <th>cp</th>\n",
              "      <th>trtbps</th>\n",
              "      <th>chol</th>\n",
              "      <th>fbs</th>\n",
              "      <th>restecg</th>\n",
              "      <th>thalachh</th>\n",
              "      <th>exng</th>\n",
              "      <th>oldpeak</th>\n",
              "      <th>slp</th>\n",
              "      <th>caa</th>\n",
              "      <th>thall</th>\n",
              "      <th>output</th>\n",
              "    </tr>\n",
              "  </thead>\n",
              "  <tbody>\n",
              "    <tr>\n",
              "      <th>0</th>\n",
              "      <td>63</td>\n",
              "      <td>1</td>\n",
              "      <td>3</td>\n",
              "      <td>145</td>\n",
              "      <td>233</td>\n",
              "      <td>1</td>\n",
              "      <td>0</td>\n",
              "      <td>150</td>\n",
              "      <td>0</td>\n",
              "      <td>2.3</td>\n",
              "      <td>0</td>\n",
              "      <td>0</td>\n",
              "      <td>1</td>\n",
              "      <td>1</td>\n",
              "    </tr>\n",
              "    <tr>\n",
              "      <th>1</th>\n",
              "      <td>37</td>\n",
              "      <td>1</td>\n",
              "      <td>2</td>\n",
              "      <td>130</td>\n",
              "      <td>250</td>\n",
              "      <td>0</td>\n",
              "      <td>1</td>\n",
              "      <td>187</td>\n",
              "      <td>0</td>\n",
              "      <td>3.5</td>\n",
              "      <td>0</td>\n",
              "      <td>0</td>\n",
              "      <td>2</td>\n",
              "      <td>1</td>\n",
              "    </tr>\n",
              "    <tr>\n",
              "      <th>2</th>\n",
              "      <td>41</td>\n",
              "      <td>0</td>\n",
              "      <td>1</td>\n",
              "      <td>130</td>\n",
              "      <td>204</td>\n",
              "      <td>0</td>\n",
              "      <td>0</td>\n",
              "      <td>172</td>\n",
              "      <td>0</td>\n",
              "      <td>1.4</td>\n",
              "      <td>2</td>\n",
              "      <td>0</td>\n",
              "      <td>2</td>\n",
              "      <td>1</td>\n",
              "    </tr>\n",
              "  </tbody>\n",
              "</table>\n",
              "</div>\n",
              "      <button class=\"colab-df-convert\" onclick=\"convertToInteractive('df-70b8f37f-2577-49b6-b8a4-7f78f7f5c010')\"\n",
              "              title=\"Convert this dataframe to an interactive table.\"\n",
              "              style=\"display:none;\">\n",
              "        \n",
              "  <svg xmlns=\"http://www.w3.org/2000/svg\" height=\"24px\"viewBox=\"0 0 24 24\"\n",
              "       width=\"24px\">\n",
              "    <path d=\"M0 0h24v24H0V0z\" fill=\"none\"/>\n",
              "    <path d=\"M18.56 5.44l.94 2.06.94-2.06 2.06-.94-2.06-.94-.94-2.06-.94 2.06-2.06.94zm-11 1L8.5 8.5l.94-2.06 2.06-.94-2.06-.94L8.5 2.5l-.94 2.06-2.06.94zm10 10l.94 2.06.94-2.06 2.06-.94-2.06-.94-.94-2.06-.94 2.06-2.06.94z\"/><path d=\"M17.41 7.96l-1.37-1.37c-.4-.4-.92-.59-1.43-.59-.52 0-1.04.2-1.43.59L10.3 9.45l-7.72 7.72c-.78.78-.78 2.05 0 2.83L4 21.41c.39.39.9.59 1.41.59.51 0 1.02-.2 1.41-.59l7.78-7.78 2.81-2.81c.8-.78.8-2.07 0-2.86zM5.41 20L4 18.59l7.72-7.72 1.47 1.35L5.41 20z\"/>\n",
              "  </svg>\n",
              "      </button>\n",
              "      \n",
              "  <style>\n",
              "    .colab-df-container {\n",
              "      display:flex;\n",
              "      flex-wrap:wrap;\n",
              "      gap: 12px;\n",
              "    }\n",
              "\n",
              "    .colab-df-convert {\n",
              "      background-color: #E8F0FE;\n",
              "      border: none;\n",
              "      border-radius: 50%;\n",
              "      cursor: pointer;\n",
              "      display: none;\n",
              "      fill: #1967D2;\n",
              "      height: 32px;\n",
              "      padding: 0 0 0 0;\n",
              "      width: 32px;\n",
              "    }\n",
              "\n",
              "    .colab-df-convert:hover {\n",
              "      background-color: #E2EBFA;\n",
              "      box-shadow: 0px 1px 2px rgba(60, 64, 67, 0.3), 0px 1px 3px 1px rgba(60, 64, 67, 0.15);\n",
              "      fill: #174EA6;\n",
              "    }\n",
              "\n",
              "    [theme=dark] .colab-df-convert {\n",
              "      background-color: #3B4455;\n",
              "      fill: #D2E3FC;\n",
              "    }\n",
              "\n",
              "    [theme=dark] .colab-df-convert:hover {\n",
              "      background-color: #434B5C;\n",
              "      box-shadow: 0px 1px 3px 1px rgba(0, 0, 0, 0.15);\n",
              "      filter: drop-shadow(0px 1px 2px rgba(0, 0, 0, 0.3));\n",
              "      fill: #FFFFFF;\n",
              "    }\n",
              "  </style>\n",
              "\n",
              "      <script>\n",
              "        const buttonEl =\n",
              "          document.querySelector('#df-70b8f37f-2577-49b6-b8a4-7f78f7f5c010 button.colab-df-convert');\n",
              "        buttonEl.style.display =\n",
              "          google.colab.kernel.accessAllowed ? 'block' : 'none';\n",
              "\n",
              "        async function convertToInteractive(key) {\n",
              "          const element = document.querySelector('#df-70b8f37f-2577-49b6-b8a4-7f78f7f5c010');\n",
              "          const dataTable =\n",
              "            await google.colab.kernel.invokeFunction('convertToInteractive',\n",
              "                                                     [key], {});\n",
              "          if (!dataTable) return;\n",
              "\n",
              "          const docLinkHtml = 'Like what you see? Visit the ' +\n",
              "            '<a target=\"_blank\" href=https://colab.research.google.com/notebooks/data_table.ipynb>data table notebook</a>'\n",
              "            + ' to learn more about interactive tables.';\n",
              "          element.innerHTML = '';\n",
              "          dataTable['output_type'] = 'display_data';\n",
              "          await google.colab.output.renderOutput(dataTable, element);\n",
              "          const docLink = document.createElement('div');\n",
              "          docLink.innerHTML = docLinkHtml;\n",
              "          element.appendChild(docLink);\n",
              "        }\n",
              "      </script>\n",
              "    </div>\n",
              "  </div>\n",
              "  "
            ]
          },
          "metadata": {},
          "execution_count": 110
        }
      ]
    },
    {
      "cell_type": "markdown",
      "source": [
        "###Step 3. Model building and forecast"
      ],
      "metadata": {
        "id": "FX-DAnJDUTT0"
      }
    },
    {
      "cell_type": "markdown",
      "source": [
        "####1. Exploratory Data Analysis (EDA)"
      ],
      "metadata": {
        "id": "7Ahk-UuHUb7n"
      }
    },
    {
      "cell_type": "code",
      "source": [
        "# посмотрим на данные в целом\n",
        "heart.info()"
      ],
      "metadata": {
        "colab": {
          "base_uri": "https://localhost:8080/"
        },
        "id": "AsyqpGR4UjM-",
        "outputId": "e13a7e38-fe8e-4a56-8dbf-2c960e133652"
      },
      "execution_count": 111,
      "outputs": [
        {
          "output_type": "stream",
          "name": "stdout",
          "text": [
            "<class 'pandas.core.frame.DataFrame'>\n",
            "RangeIndex: 303 entries, 0 to 302\n",
            "Data columns (total 14 columns):\n",
            " #   Column    Non-Null Count  Dtype  \n",
            "---  ------    --------------  -----  \n",
            " 0   age       303 non-null    int64  \n",
            " 1   sex       303 non-null    int64  \n",
            " 2   cp        303 non-null    int64  \n",
            " 3   trtbps    303 non-null    int64  \n",
            " 4   chol      303 non-null    int64  \n",
            " 5   fbs       303 non-null    int64  \n",
            " 6   restecg   303 non-null    int64  \n",
            " 7   thalachh  303 non-null    int64  \n",
            " 8   exng      303 non-null    int64  \n",
            " 9   oldpeak   303 non-null    float64\n",
            " 10  slp       303 non-null    int64  \n",
            " 11  caa       303 non-null    int64  \n",
            " 12  thall     303 non-null    int64  \n",
            " 13  output    303 non-null    int64  \n",
            "dtypes: float64(1), int64(13)\n",
            "memory usage: 33.3 KB\n"
          ]
        }
      ]
    },
    {
      "cell_type": "code",
      "source": [
        "# для построения графиков воспользуемся новой для нас библиотекой seaborn\n",
        "import seaborn as sns"
      ],
      "metadata": {
        "id": "03EPTAEwUuTD"
      },
      "execution_count": 112,
      "outputs": []
    },
    {
      "cell_type": "code",
      "source": [
        "# посмотрим насколько значим пол\n",
        "# с помощью x и hue мы можем уместить две категориальные переменные на одном графике\n",
        "sns.countplot(x = 'sex', hue = 'output', data = heart)"
      ],
      "metadata": {
        "colab": {
          "base_uri": "https://localhost:8080/",
          "height": 296
        },
        "id": "mKBh1yksUxrx",
        "outputId": "b5b9141c-b9d8-4d1f-8dfe-0f14b8f010c4"
      },
      "execution_count": 113,
      "outputs": [
        {
          "output_type": "execute_result",
          "data": {
            "text/plain": [
              "<matplotlib.axes._subplots.AxesSubplot at 0x7f4d973a5c50>"
            ]
          },
          "metadata": {},
          "execution_count": 113
        },
        {
          "output_type": "display_data",
          "data": {
            "text/plain": [
              "<Figure size 432x288 with 1 Axes>"
            ],
            "image/png": "[encoded data removed]"
          },
          "metadata": {
            "needs_background": "light"
          }
        }
      ]
    },
    {
      "cell_type": "code",
      "source": [
        "# посмотрим насколько значим уровень сахара\n",
        "sns.countplot(x = 'fbs', hue = 'output', data = heart)\n",
        "# практически не влияет, удалим позже"
      ],
      "metadata": {
        "colab": {
          "base_uri": "https://localhost:8080/",
          "height": 296
        },
        "id": "z6MzbWvXaAz-",
        "outputId": "d91f71fb-1d32-4513-f84b-2e0a9f40f900"
      },
      "execution_count": 125,
      "outputs": [
        {
          "output_type": "execute_result",
          "data": {
            "text/plain": [
              "<matplotlib.axes._subplots.AxesSubplot at 0x7f4d97356190>"
            ]
          },
          "metadata": {},
          "execution_count": 125
        },
        {
          "output_type": "display_data",
          "data": {
            "text/plain": [
              "<Figure size 432x288 with 1 Axes>"
            ],
            "image/png": "[encoded data removed]"
          },
          "metadata": {
            "needs_background": "light"
          }
        }
      ]
    },
    {
      "cell_type": "code",
      "source": [
        "# посмотрим насколько значим тип болей в груди\n",
        "sns.countplot(x = 'cp', hue = 'output', data = heart)"
      ],
      "metadata": {
        "colab": {
          "base_uri": "https://localhost:8080/",
          "height": 296
        },
        "id": "ddDGLK2taQ3W",
        "outputId": "9dbe85eb-dc97-4117-a5ae-c70ecb36c0b4"
      },
      "execution_count": 115,
      "outputs": [
        {
          "output_type": "execute_result",
          "data": {
            "text/plain": [
              "<matplotlib.axes._subplots.AxesSubplot at 0x7f4d972a5210>"
            ]
          },
          "metadata": {},
          "execution_count": 115
        },
        {
          "output_type": "display_data",
          "data": {
            "text/plain": [
              "<Figure size 432x288 with 1 Axes>"
            ],
            "image/png": "[encoded data removed]"
          },
          "metadata": {
            "needs_background": "light"
          }
        }
      ]
    },
    {
      "cell_type": "code",
      "source": [
        "# посмотрим насколько значимы результаты электрокардиографии в покое\n",
        "sns.countplot(x = 'restecg', hue = 'output', data = heart)"
      ],
      "metadata": {
        "colab": {
          "base_uri": "https://localhost:8080/",
          "height": 299
        },
        "id": "R1GaalGgbGfV",
        "outputId": "258ef88b-5dd6-4707-df44-e7a3088035a1"
      },
      "execution_count": 116,
      "outputs": [
        {
          "output_type": "execute_result",
          "data": {
            "text/plain": [
              "<matplotlib.axes._subplots.AxesSubplot at 0x7f4d9721c590>"
            ]
          },
          "metadata": {},
          "execution_count": 116
        },
        {
          "output_type": "display_data",
          "data": {
            "text/plain": [
              "<Figure size 432x288 with 1 Axes>"
            ],
            "image/png": "[encoded data removed]"
          },
          "metadata": {
            "needs_background": "light"
          }
        }
      ]
    },
    {
      "cell_type": "markdown",
      "source": [
        "Missing values"
      ],
      "metadata": {
        "id": "YBDEjGoIbf2O"
      }
    },
    {
      "cell_type": "code",
      "source": [
        "# выявим пропущенные значения с помощью .isnull() и посчитаем их количество через sum()\n",
        "heart.isnull().sum()"
      ],
      "metadata": {
        "colab": {
          "base_uri": "https://localhost:8080/"
        },
        "id": "EZVMEOIBd2JI",
        "outputId": "5ddabdec-5e86-4586-8d3a-420a5bb9faa8"
      },
      "execution_count": 117,
      "outputs": [
        {
          "output_type": "execute_result",
          "data": {
            "text/plain": [
              "age         0\n",
              "sex         0\n",
              "cp          0\n",
              "trtbps      0\n",
              "chol        0\n",
              "fbs         0\n",
              "restecg     0\n",
              "thalachh    0\n",
              "exng        0\n",
              "oldpeak     0\n",
              "slp         0\n",
              "caa         0\n",
              "thall       0\n",
              "output      0\n",
              "dtype: int64"
            ]
          },
          "metadata": {},
          "execution_count": 117
        }
      ]
    },
    {
      "cell_type": "code",
      "source": [
        "#не знаю значение переменных oldpeak, slp\n",
        "#избавлюсь от них с помощью метода .drop()\n",
        "# (параметр axis = 1 отвечает за столбцы, inplace = True сохраняет изменения)\n",
        "heart.drop(columns = 'slp', axis = 1, inplace = True)"
      ],
      "metadata": {
        "id": "cjqJz80oeElI"
      },
      "execution_count": 118,
      "outputs": []
    },
    {
      "cell_type": "code",
      "source": [
        "heart.drop(columns = 'oldpeak', axis = 1, inplace = True)"
      ],
      "metadata": {
        "id": "luDcbsl1fAap"
      },
      "execution_count": 119,
      "outputs": []
    },
    {
      "cell_type": "code",
      "source": [
        "# посмотрим на результат\n",
        "heart.isnull().sum()"
      ],
      "metadata": {
        "colab": {
          "base_uri": "https://localhost:8080/"
        },
        "id": "getOHaECiwNc",
        "outputId": "d825a046-160a-42dc-8b0a-466ec5695a0d"
      },
      "execution_count": 120,
      "outputs": [
        {
          "output_type": "execute_result",
          "data": {
            "text/plain": [
              "age         0\n",
              "sex         0\n",
              "cp          0\n",
              "trtbps      0\n",
              "chol        0\n",
              "fbs         0\n",
              "restecg     0\n",
              "thalachh    0\n",
              "exng        0\n",
              "caa         0\n",
              "thall       0\n",
              "output      0\n",
              "dtype: int64"
            ]
          },
          "metadata": {},
          "execution_count": 120
        }
      ]
    },
    {
      "cell_type": "markdown",
      "source": [
        "Categorical variables"
      ],
      "metadata": {
        "id": "zLQF3Sszi8F3"
      }
    },
    {
      "cell_type": "code",
      "source": [
        "# применим one-hot encoding к переменным cp, restecg с помощью метода .get_dummies()\n",
        "cp = pd.get_dummies(heart['cp'], drop_first = True)\n",
        "restecg = pd.get_dummies(heart['restecg'], drop_first = True)"
      ],
      "metadata": {
        "id": "XeI_UM06o7yo"
      },
      "execution_count": 121,
      "outputs": []
    },
    {
      "cell_type": "code",
      "source": [
        "# присоединим закодированные через one-hot encoding переменные\n",
        "# к исходному датафрейму через функцию .concat()\n",
        "heart = pd.concat([heart, cp, restecg], axis = 1)\n",
        "heart.head(3)"
      ],
      "metadata": {
        "colab": {
          "base_uri": "https://localhost:8080/",
          "height": 173
        },
        "id": "vI5wfdGDqGCO",
        "outputId": "6565ef7e-a184-4f0e-c35c-adc523937fd0"
      },
      "execution_count": 123,
      "outputs": [
        {
          "output_type": "execute_result",
          "data": {
            "text/plain": [
              "   age  sex  cp  trtbps  chol  fbs  restecg  thalachh  exng  caa  ...  1  2  \\\n",
              "0   63    1   3     145   233    1        0       150     0    0  ...  0  0   \n",
              "1   37    1   2     130   250    0        1       187     0    0  ...  0  1   \n",
              "2   41    0   1     130   204    0        0       172     0    0  ...  1  0   \n",
              "\n",
              "   3  1  2  1  2  3  1  2  \n",
              "0  1  0  0  0  0  1  0  0  \n",
              "1  0  1  0  0  1  0  1  0  \n",
              "2  0  0  0  1  0  0  0  0  \n",
              "\n",
              "[3 rows x 22 columns]"
            ],
            "text/html": [
              "\n",
              "  <div id=\"df-da77e527-2db0-4156-a69c-7d2232043073\">\n",
              "    <div class=\"colab-df-container\">\n",
              "      <div>\n",
              "<style scoped>\n",
              "    .dataframe tbody tr th:only-of-type {\n",
              "        vertical-align: middle;\n",
              "    }\n",
              "\n",
              "    .dataframe tbody tr th {\n",
              "        vertical-align: top;\n",
              "    }\n",
              "\n",
              "    .dataframe thead th {\n",
              "        text-align: right;\n",
              "    }\n",
              "</style>\n",
              "<table border=\"1\" class=\"dataframe\">\n",
              "  <thead>\n",
              "    <tr style=\"text-align: right;\">\n",
              "      <th></th>\n",
              "      <th>age</th>\n",
              "      <th>sex</th>\n",
              "      <th>cp</th>\n",
              "      <th>trtbps</th>\n",
              "      <th>chol</th>\n",
              "      <th>fbs</th>\n",
              "      <th>restecg</th>\n",
              "      <th>thalachh</th>\n",
              "      <th>exng</th>\n",
              "      <th>caa</th>\n",
              "      <th>...</th>\n",
              "      <th>1</th>\n",
              "      <th>2</th>\n",
              "      <th>3</th>\n",
              "      <th>1</th>\n",
              "      <th>2</th>\n",
              "      <th>1</th>\n",
              "      <th>2</th>\n",
              "      <th>3</th>\n",
              "      <th>1</th>\n",
              "      <th>2</th>\n",
              "    </tr>\n",
              "  </thead>\n",
              "  <tbody>\n",
              "    <tr>\n",
              "      <th>0</th>\n",
              "      <td>63</td>\n",
              "      <td>1</td>\n",
              "      <td>3</td>\n",
              "      <td>145</td>\n",
              "      <td>233</td>\n",
              "      <td>1</td>\n",
              "      <td>0</td>\n",
              "      <td>150</td>\n",
              "      <td>0</td>\n",
              "      <td>0</td>\n",
              "      <td>...</td>\n",
              "      <td>0</td>\n",
              "      <td>0</td>\n",
              "      <td>1</td>\n",
              "      <td>0</td>\n",
              "      <td>0</td>\n",
              "      <td>0</td>\n",
              "      <td>0</td>\n",
              "      <td>1</td>\n",
              "      <td>0</td>\n",
              "      <td>0</td>\n",
              "    </tr>\n",
              "    <tr>\n",
              "      <th>1</th>\n",
              "      <td>37</td>\n",
              "      <td>1</td>\n",
              "      <td>2</td>\n",
              "      <td>130</td>\n",
              "      <td>250</td>\n",
              "      <td>0</td>\n",
              "      <td>1</td>\n",
              "      <td>187</td>\n",
              "      <td>0</td>\n",
              "      <td>0</td>\n",
              "      <td>...</td>\n",
              "      <td>0</td>\n",
              "      <td>1</td>\n",
              "      <td>0</td>\n",
              "      <td>1</td>\n",
              "      <td>0</td>\n",
              "      <td>0</td>\n",
              "      <td>1</td>\n",
              "      <td>0</td>\n",
              "      <td>1</td>\n",
              "      <td>0</td>\n",
              "    </tr>\n",
              "    <tr>\n",
              "      <th>2</th>\n",
              "      <td>41</td>\n",
              "      <td>0</td>\n",
              "      <td>1</td>\n",
              "      <td>130</td>\n",
              "      <td>204</td>\n",
              "      <td>0</td>\n",
              "      <td>0</td>\n",
              "      <td>172</td>\n",
              "      <td>0</td>\n",
              "      <td>0</td>\n",
              "      <td>...</td>\n",
              "      <td>1</td>\n",
              "      <td>0</td>\n",
              "      <td>0</td>\n",
              "      <td>0</td>\n",
              "      <td>0</td>\n",
              "      <td>1</td>\n",
              "      <td>0</td>\n",
              "      <td>0</td>\n",
              "      <td>0</td>\n",
              "      <td>0</td>\n",
              "    </tr>\n",
              "  </tbody>\n",
              "</table>\n",
              "<p>3 rows × 22 columns</p>\n",
              "</div>\n",
              "      <button class=\"colab-df-convert\" onclick=\"convertToInteractive('df-da77e527-2db0-4156-a69c-7d2232043073')\"\n",
              "              title=\"Convert this dataframe to an interactive table.\"\n",
              "              style=\"display:none;\">\n",
              "        \n",
              "  <svg xmlns=\"http://www.w3.org/2000/svg\" height=\"24px\"viewBox=\"0 0 24 24\"\n",
              "       width=\"24px\">\n",
              "    <path d=\"M0 0h24v24H0V0z\" fill=\"none\"/>\n",
              "    <path d=\"M18.56 5.44l.94 2.06.94-2.06 2.06-.94-2.06-.94-.94-2.06-.94 2.06-2.06.94zm-11 1L8.5 8.5l.94-2.06 2.06-.94-2.06-.94L8.5 2.5l-.94 2.06-2.06.94zm10 10l.94 2.06.94-2.06 2.06-.94-2.06-.94-.94-2.06-.94 2.06-2.06.94z\"/><path d=\"M17.41 7.96l-1.37-1.37c-.4-.4-.92-.59-1.43-.59-.52 0-1.04.2-1.43.59L10.3 9.45l-7.72 7.72c-.78.78-.78 2.05 0 2.83L4 21.41c.39.39.9.59 1.41.59.51 0 1.02-.2 1.41-.59l7.78-7.78 2.81-2.81c.8-.78.8-2.07 0-2.86zM5.41 20L4 18.59l7.72-7.72 1.47 1.35L5.41 20z\"/>\n",
              "  </svg>\n",
              "      </button>\n",
              "      \n",
              "  <style>\n",
              "    .colab-df-container {\n",
              "      display:flex;\n",
              "      flex-wrap:wrap;\n",
              "      gap: 12px;\n",
              "    }\n",
              "\n",
              "    .colab-df-convert {\n",
              "      background-color: #E8F0FE;\n",
              "      border: none;\n",
              "      border-radius: 50%;\n",
              "      cursor: pointer;\n",
              "      display: none;\n",
              "      fill: #1967D2;\n",
              "      height: 32px;\n",
              "      padding: 0 0 0 0;\n",
              "      width: 32px;\n",
              "    }\n",
              "\n",
              "    .colab-df-convert:hover {\n",
              "      background-color: #E2EBFA;\n",
              "      box-shadow: 0px 1px 2px rgba(60, 64, 67, 0.3), 0px 1px 3px 1px rgba(60, 64, 67, 0.15);\n",
              "      fill: #174EA6;\n",
              "    }\n",
              "\n",
              "    [theme=dark] .colab-df-convert {\n",
              "      background-color: #3B4455;\n",
              "      fill: #D2E3FC;\n",
              "    }\n",
              "\n",
              "    [theme=dark] .colab-df-convert:hover {\n",
              "      background-color: #434B5C;\n",
              "      box-shadow: 0px 1px 3px 1px rgba(0, 0, 0, 0.15);\n",
              "      filter: drop-shadow(0px 1px 2px rgba(0, 0, 0, 0.3));\n",
              "      fill: #FFFFFF;\n",
              "    }\n",
              "  </style>\n",
              "\n",
              "      <script>\n",
              "        const buttonEl =\n",
              "          document.querySelector('#df-da77e527-2db0-4156-a69c-7d2232043073 button.colab-df-convert');\n",
              "        buttonEl.style.display =\n",
              "          google.colab.kernel.accessAllowed ? 'block' : 'none';\n",
              "\n",
              "        async function convertToInteractive(key) {\n",
              "          const element = document.querySelector('#df-da77e527-2db0-4156-a69c-7d2232043073');\n",
              "          const dataTable =\n",
              "            await google.colab.kernel.invokeFunction('convertToInteractive',\n",
              "                                                     [key], {});\n",
              "          if (!dataTable) return;\n",
              "\n",
              "          const docLinkHtml = 'Like what you see? Visit the ' +\n",
              "            '<a target=\"_blank\" href=https://colab.research.google.com/notebooks/data_table.ipynb>data table notebook</a>'\n",
              "            + ' to learn more about interactive tables.';\n",
              "          element.innerHTML = '';\n",
              "          dataTable['output_type'] = 'display_data';\n",
              "          await google.colab.output.renderOutput(dataTable, element);\n",
              "          const docLink = document.createElement('div');\n",
              "          docLink.innerHTML = docLinkHtml;\n",
              "          element.appendChild(docLink);\n",
              "        }\n",
              "      </script>\n",
              "    </div>\n",
              "  </div>\n",
              "  "
            ]
          },
          "metadata": {},
          "execution_count": 123
        }
      ]
    },
    {
      "cell_type": "code",
      "source": [
        "# удалим те столбцы, которые нам теперь не нужны\n",
        "heart.drop(['cp', 'restecg'], axis = 1, inplace = True)\n",
        "heart.head(3)"
      ],
      "metadata": {
        "colab": {
          "base_uri": "https://localhost:8080/",
          "height": 143
        },
        "id": "QInMamO8qYht",
        "outputId": "eb3e1512-e3fd-4988-de07-ea1e703a2794"
      },
      "execution_count": 124,
      "outputs": [
        {
          "output_type": "execute_result",
          "data": {
            "text/plain": [
              "   age  sex  trtbps  chol  fbs  thalachh  exng  caa  thall  output  1  2  3  \\\n",
              "0   63    1     145   233    1       150     0    0      1       1  0  0  1   \n",
              "1   37    1     130   250    0       187     0    0      2       1  0  1  0   \n",
              "2   41    0     130   204    0       172     0    0      2       1  1  0  0   \n",
              "\n",
              "   1  2  1  2  3  1  2  \n",
              "0  0  0  0  0  1  0  0  \n",
              "1  1  0  0  1  0  1  0  \n",
              "2  0  0  1  0  0  0  0  "
            ],
            "text/html": [
              "\n",
              "  <div id=\"df-4185a697-4361-4f38-899c-c80b1df4e658\">\n",
              "    <div class=\"colab-df-container\">\n",
              "      <div>\n",
              "<style scoped>\n",
              "    .dataframe tbody tr th:only-of-type {\n",
              "        vertical-align: middle;\n",
              "    }\n",
              "\n",
              "    .dataframe tbody tr th {\n",
              "        vertical-align: top;\n",
              "    }\n",
              "\n",
              "    .dataframe thead th {\n",
              "        text-align: right;\n",
              "    }\n",
              "</style>\n",
              "<table border=\"1\" class=\"dataframe\">\n",
              "  <thead>\n",
              "    <tr style=\"text-align: right;\">\n",
              "      <th></th>\n",
              "      <th>age</th>\n",
              "      <th>sex</th>\n",
              "      <th>trtbps</th>\n",
              "      <th>chol</th>\n",
              "      <th>fbs</th>\n",
              "      <th>thalachh</th>\n",
              "      <th>exng</th>\n",
              "      <th>caa</th>\n",
              "      <th>thall</th>\n",
              "      <th>output</th>\n",
              "      <th>1</th>\n",
              "      <th>2</th>\n",
              "      <th>3</th>\n",
              "      <th>1</th>\n",
              "      <th>2</th>\n",
              "      <th>1</th>\n",
              "      <th>2</th>\n",
              "      <th>3</th>\n",
              "      <th>1</th>\n",
              "      <th>2</th>\n",
              "    </tr>\n",
              "  </thead>\n",
              "  <tbody>\n",
              "    <tr>\n",
              "      <th>0</th>\n",
              "      <td>63</td>\n",
              "      <td>1</td>\n",
              "      <td>145</td>\n",
              "      <td>233</td>\n",
              "      <td>1</td>\n",
              "      <td>150</td>\n",
              "      <td>0</td>\n",
              "      <td>0</td>\n",
              "      <td>1</td>\n",
              "      <td>1</td>\n",
              "      <td>0</td>\n",
              "      <td>0</td>\n",
              "      <td>1</td>\n",
              "      <td>0</td>\n",
              "      <td>0</td>\n",
              "      <td>0</td>\n",
              "      <td>0</td>\n",
              "      <td>1</td>\n",
              "      <td>0</td>\n",
              "      <td>0</td>\n",
              "    </tr>\n",
              "    <tr>\n",
              "      <th>1</th>\n",
              "      <td>37</td>\n",
              "      <td>1</td>\n",
              "      <td>130</td>\n",
              "      <td>250</td>\n",
              "      <td>0</td>\n",
              "      <td>187</td>\n",
              "      <td>0</td>\n",
              "      <td>0</td>\n",
              "      <td>2</td>\n",
              "      <td>1</td>\n",
              "      <td>0</td>\n",
              "      <td>1</td>\n",
              "      <td>0</td>\n",
              "      <td>1</td>\n",
              "      <td>0</td>\n",
              "      <td>0</td>\n",
              "      <td>1</td>\n",
              "      <td>0</td>\n",
              "      <td>1</td>\n",
              "      <td>0</td>\n",
              "    </tr>\n",
              "    <tr>\n",
              "      <th>2</th>\n",
              "      <td>41</td>\n",
              "      <td>0</td>\n",
              "      <td>130</td>\n",
              "      <td>204</td>\n",
              "      <td>0</td>\n",
              "      <td>172</td>\n",
              "      <td>0</td>\n",
              "      <td>0</td>\n",
              "      <td>2</td>\n",
              "      <td>1</td>\n",
              "      <td>1</td>\n",
              "      <td>0</td>\n",
              "      <td>0</td>\n",
              "      <td>0</td>\n",
              "      <td>0</td>\n",
              "      <td>1</td>\n",
              "      <td>0</td>\n",
              "      <td>0</td>\n",
              "      <td>0</td>\n",
              "      <td>0</td>\n",
              "    </tr>\n",
              "  </tbody>\n",
              "</table>\n",
              "</div>\n",
              "      <button class=\"colab-df-convert\" onclick=\"convertToInteractive('df-4185a697-4361-4f38-899c-c80b1df4e658')\"\n",
              "              title=\"Convert this dataframe to an interactive table.\"\n",
              "              style=\"display:none;\">\n",
              "        \n",
              "  <svg xmlns=\"http://www.w3.org/2000/svg\" height=\"24px\"viewBox=\"0 0 24 24\"\n",
              "       width=\"24px\">\n",
              "    <path d=\"M0 0h24v24H0V0z\" fill=\"none\"/>\n",
              "    <path d=\"M18.56 5.44l.94 2.06.94-2.06 2.06-.94-2.06-.94-.94-2.06-.94 2.06-2.06.94zm-11 1L8.5 8.5l.94-2.06 2.06-.94-2.06-.94L8.5 2.5l-.94 2.06-2.06.94zm10 10l.94 2.06.94-2.06 2.06-.94-2.06-.94-.94-2.06-.94 2.06-2.06.94z\"/><path d=\"M17.41 7.96l-1.37-1.37c-.4-.4-.92-.59-1.43-.59-.52 0-1.04.2-1.43.59L10.3 9.45l-7.72 7.72c-.78.78-.78 2.05 0 2.83L4 21.41c.39.39.9.59 1.41.59.51 0 1.02-.2 1.41-.59l7.78-7.78 2.81-2.81c.8-.78.8-2.07 0-2.86zM5.41 20L4 18.59l7.72-7.72 1.47 1.35L5.41 20z\"/>\n",
              "  </svg>\n",
              "      </button>\n",
              "      \n",
              "  <style>\n",
              "    .colab-df-container {\n",
              "      display:flex;\n",
              "      flex-wrap:wrap;\n",
              "      gap: 12px;\n",
              "    }\n",
              "\n",
              "    .colab-df-convert {\n",
              "      background-color: #E8F0FE;\n",
              "      border: none;\n",
              "      border-radius: 50%;\n",
              "      cursor: pointer;\n",
              "      display: none;\n",
              "      fill: #1967D2;\n",
              "      height: 32px;\n",
              "      padding: 0 0 0 0;\n",
              "      width: 32px;\n",
              "    }\n",
              "\n",
              "    .colab-df-convert:hover {\n",
              "      background-color: #E2EBFA;\n",
              "      box-shadow: 0px 1px 2px rgba(60, 64, 67, 0.3), 0px 1px 3px 1px rgba(60, 64, 67, 0.15);\n",
              "      fill: #174EA6;\n",
              "    }\n",
              "\n",
              "    [theme=dark] .colab-df-convert {\n",
              "      background-color: #3B4455;\n",
              "      fill: #D2E3FC;\n",
              "    }\n",
              "\n",
              "    [theme=dark] .colab-df-convert:hover {\n",
              "      background-color: #434B5C;\n",
              "      box-shadow: 0px 1px 3px 1px rgba(0, 0, 0, 0.15);\n",
              "      filter: drop-shadow(0px 1px 2px rgba(0, 0, 0, 0.3));\n",
              "      fill: #FFFFFF;\n",
              "    }\n",
              "  </style>\n",
              "\n",
              "      <script>\n",
              "        const buttonEl =\n",
              "          document.querySelector('#df-4185a697-4361-4f38-899c-c80b1df4e658 button.colab-df-convert');\n",
              "        buttonEl.style.display =\n",
              "          google.colab.kernel.accessAllowed ? 'block' : 'none';\n",
              "\n",
              "        async function convertToInteractive(key) {\n",
              "          const element = document.querySelector('#df-4185a697-4361-4f38-899c-c80b1df4e658');\n",
              "          const dataTable =\n",
              "            await google.colab.kernel.invokeFunction('convertToInteractive',\n",
              "                                                     [key], {});\n",
              "          if (!dataTable) return;\n",
              "\n",
              "          const docLinkHtml = 'Like what you see? Visit the ' +\n",
              "            '<a target=\"_blank\" href=https://colab.research.google.com/notebooks/data_table.ipynb>data table notebook</a>'\n",
              "            + ' to learn more about interactive tables.';\n",
              "          element.innerHTML = '';\n",
              "          dataTable['output_type'] = 'display_data';\n",
              "          await google.colab.output.renderOutput(dataTable, element);\n",
              "          const docLink = document.createElement('div');\n",
              "          docLink.innerHTML = docLinkHtml;\n",
              "          element.appendChild(docLink);\n",
              "        }\n",
              "      </script>\n",
              "    </div>\n",
              "  </div>\n",
              "  "
            ]
          },
          "metadata": {},
          "execution_count": 124
        }
      ]
    },
    {
      "cell_type": "code",
      "source": [
        "# вспомним, что fbs на данные особо не влияет\n",
        "# проверим как влияет chol\n",
        "sns.countplot(x = 'chol', hue = 'output', data = heart)\n",
        "# особо ничего непонятно, так как значения абсолютно разные, но \n",
        "# столбцов, которые выходят за предел 1.0 меньше, чем равных ему\n",
        "# думаю, если удалить столбец, прогнозировать будет легче, и данные практически не изменятся"
      ],
      "metadata": {
        "colab": {
          "base_uri": "https://localhost:8080/",
          "height": 296
        },
        "id": "aYnK4W9IseNo",
        "outputId": "0aa26b2a-921a-4fde-a0a9-0a9f8ed1fad3"
      },
      "execution_count": 129,
      "outputs": [
        {
          "output_type": "execute_result",
          "data": {
            "text/plain": [
              "<matplotlib.axes._subplots.AxesSubplot at 0x7f4d97190690>"
            ]
          },
          "metadata": {},
          "execution_count": 129
        },
        {
          "output_type": "display_data",
          "data": {
            "text/plain": [
              "<Figure size 432x288 with 1 Axes>"
            ],
            "image/png": "[encoded data removed]"
          },
          "metadata": {
            "needs_background": "light"
          }
        }
      ]
    },
    {
      "cell_type": "code",
      "source": [
        "heart.drop(['fbs', 'chol'], axis = 1, inplace = True)\n",
        "heart.head(3)"
      ],
      "metadata": {
        "colab": {
          "base_uri": "https://localhost:8080/",
          "height": 143
        },
        "id": "lVSZ4wE8skgr",
        "outputId": "ea87c2d3-70c0-4ffa-b7e6-e82b5685d809"
      },
      "execution_count": 130,
      "outputs": [
        {
          "output_type": "execute_result",
          "data": {
            "text/plain": [
              "   age  sex  trtbps  thalachh  exng  caa  thall  output  1  2  3  1  2  1  2  \\\n",
              "0   63    1     145       150     0    0      1       1  0  0  1  0  0  0  0   \n",
              "1   37    1     130       187     0    0      2       1  0  1  0  1  0  0  1   \n",
              "2   41    0     130       172     0    0      2       1  1  0  0  0  0  1  0   \n",
              "\n",
              "   3  1  2  \n",
              "0  1  0  0  \n",
              "1  0  1  0  \n",
              "2  0  0  0  "
            ],
            "text/html": [
              "\n",
              "  <div id=\"df-da32c41e-9b0f-4281-97b8-e8a227e4a294\">\n",
              "    <div class=\"colab-df-container\">\n",
              "      <div>\n",
              "<style scoped>\n",
              "    .dataframe tbody tr th:only-of-type {\n",
              "        vertical-align: middle;\n",
              "    }\n",
              "\n",
              "    .dataframe tbody tr th {\n",
              "        vertical-align: top;\n",
              "    }\n",
              "\n",
              "    .dataframe thead th {\n",
              "        text-align: right;\n",
              "    }\n",
              "</style>\n",
              "<table border=\"1\" class=\"dataframe\">\n",
              "  <thead>\n",
              "    <tr style=\"text-align: right;\">\n",
              "      <th></th>\n",
              "      <th>age</th>\n",
              "      <th>sex</th>\n",
              "      <th>trtbps</th>\n",
              "      <th>thalachh</th>\n",
              "      <th>exng</th>\n",
              "      <th>caa</th>\n",
              "      <th>thall</th>\n",
              "      <th>output</th>\n",
              "      <th>1</th>\n",
              "      <th>2</th>\n",
              "      <th>3</th>\n",
              "      <th>1</th>\n",
              "      <th>2</th>\n",
              "      <th>1</th>\n",
              "      <th>2</th>\n",
              "      <th>3</th>\n",
              "      <th>1</th>\n",
              "      <th>2</th>\n",
              "    </tr>\n",
              "  </thead>\n",
              "  <tbody>\n",
              "    <tr>\n",
              "      <th>0</th>\n",
              "      <td>63</td>\n",
              "      <td>1</td>\n",
              "      <td>145</td>\n",
              "      <td>150</td>\n",
              "      <td>0</td>\n",
              "      <td>0</td>\n",
              "      <td>1</td>\n",
              "      <td>1</td>\n",
              "      <td>0</td>\n",
              "      <td>0</td>\n",
              "      <td>1</td>\n",
              "      <td>0</td>\n",
              "      <td>0</td>\n",
              "      <td>0</td>\n",
              "      <td>0</td>\n",
              "      <td>1</td>\n",
              "      <td>0</td>\n",
              "      <td>0</td>\n",
              "    </tr>\n",
              "    <tr>\n",
              "      <th>1</th>\n",
              "      <td>37</td>\n",
              "      <td>1</td>\n",
              "      <td>130</td>\n",
              "      <td>187</td>\n",
              "      <td>0</td>\n",
              "      <td>0</td>\n",
              "      <td>2</td>\n",
              "      <td>1</td>\n",
              "      <td>0</td>\n",
              "      <td>1</td>\n",
              "      <td>0</td>\n",
              "      <td>1</td>\n",
              "      <td>0</td>\n",
              "      <td>0</td>\n",
              "      <td>1</td>\n",
              "      <td>0</td>\n",
              "      <td>1</td>\n",
              "      <td>0</td>\n",
              "    </tr>\n",
              "    <tr>\n",
              "      <th>2</th>\n",
              "      <td>41</td>\n",
              "      <td>0</td>\n",
              "      <td>130</td>\n",
              "      <td>172</td>\n",
              "      <td>0</td>\n",
              "      <td>0</td>\n",
              "      <td>2</td>\n",
              "      <td>1</td>\n",
              "      <td>1</td>\n",
              "      <td>0</td>\n",
              "      <td>0</td>\n",
              "      <td>0</td>\n",
              "      <td>0</td>\n",
              "      <td>1</td>\n",
              "      <td>0</td>\n",
              "      <td>0</td>\n",
              "      <td>0</td>\n",
              "      <td>0</td>\n",
              "    </tr>\n",
              "  </tbody>\n",
              "</table>\n",
              "</div>\n",
              "      <button class=\"colab-df-convert\" onclick=\"convertToInteractive('df-da32c41e-9b0f-4281-97b8-e8a227e4a294')\"\n",
              "              title=\"Convert this dataframe to an interactive table.\"\n",
              "              style=\"display:none;\">\n",
              "        \n",
              "  <svg xmlns=\"http://www.w3.org/2000/svg\" height=\"24px\"viewBox=\"0 0 24 24\"\n",
              "       width=\"24px\">\n",
              "    <path d=\"M0 0h24v24H0V0z\" fill=\"none\"/>\n",
              "    <path d=\"M18.56 5.44l.94 2.06.94-2.06 2.06-.94-2.06-.94-.94-2.06-.94 2.06-2.06.94zm-11 1L8.5 8.5l.94-2.06 2.06-.94-2.06-.94L8.5 2.5l-.94 2.06-2.06.94zm10 10l.94 2.06.94-2.06 2.06-.94-2.06-.94-.94-2.06-.94 2.06-2.06.94z\"/><path d=\"M17.41 7.96l-1.37-1.37c-.4-.4-.92-.59-1.43-.59-.52 0-1.04.2-1.43.59L10.3 9.45l-7.72 7.72c-.78.78-.78 2.05 0 2.83L4 21.41c.39.39.9.59 1.41.59.51 0 1.02-.2 1.41-.59l7.78-7.78 2.81-2.81c.8-.78.8-2.07 0-2.86zM5.41 20L4 18.59l7.72-7.72 1.47 1.35L5.41 20z\"/>\n",
              "  </svg>\n",
              "      </button>\n",
              "      \n",
              "  <style>\n",
              "    .colab-df-container {\n",
              "      display:flex;\n",
              "      flex-wrap:wrap;\n",
              "      gap: 12px;\n",
              "    }\n",
              "\n",
              "    .colab-df-convert {\n",
              "      background-color: #E8F0FE;\n",
              "      border: none;\n",
              "      border-radius: 50%;\n",
              "      cursor: pointer;\n",
              "      display: none;\n",
              "      fill: #1967D2;\n",
              "      height: 32px;\n",
              "      padding: 0 0 0 0;\n",
              "      width: 32px;\n",
              "    }\n",
              "\n",
              "    .colab-df-convert:hover {\n",
              "      background-color: #E2EBFA;\n",
              "      box-shadow: 0px 1px 2px rgba(60, 64, 67, 0.3), 0px 1px 3px 1px rgba(60, 64, 67, 0.15);\n",
              "      fill: #174EA6;\n",
              "    }\n",
              "\n",
              "    [theme=dark] .colab-df-convert {\n",
              "      background-color: #3B4455;\n",
              "      fill: #D2E3FC;\n",
              "    }\n",
              "\n",
              "    [theme=dark] .colab-df-convert:hover {\n",
              "      background-color: #434B5C;\n",
              "      box-shadow: 0px 1px 3px 1px rgba(0, 0, 0, 0.15);\n",
              "      filter: drop-shadow(0px 1px 2px rgba(0, 0, 0, 0.3));\n",
              "      fill: #FFFFFF;\n",
              "    }\n",
              "  </style>\n",
              "\n",
              "      <script>\n",
              "        const buttonEl =\n",
              "          document.querySelector('#df-da32c41e-9b0f-4281-97b8-e8a227e4a294 button.colab-df-convert');\n",
              "        buttonEl.style.display =\n",
              "          google.colab.kernel.accessAllowed ? 'block' : 'none';\n",
              "\n",
              "        async function convertToInteractive(key) {\n",
              "          const element = document.querySelector('#df-da32c41e-9b0f-4281-97b8-e8a227e4a294');\n",
              "          const dataTable =\n",
              "            await google.colab.kernel.invokeFunction('convertToInteractive',\n",
              "                                                     [key], {});\n",
              "          if (!dataTable) return;\n",
              "\n",
              "          const docLinkHtml = 'Like what you see? Visit the ' +\n",
              "            '<a target=\"_blank\" href=https://colab.research.google.com/notebooks/data_table.ipynb>data table notebook</a>'\n",
              "            + ' to learn more about interactive tables.';\n",
              "          element.innerHTML = '';\n",
              "          dataTable['output_type'] = 'display_data';\n",
              "          await google.colab.output.renderOutput(dataTable, element);\n",
              "          const docLink = document.createElement('div');\n",
              "          docLink.innerHTML = docLinkHtml;\n",
              "          element.appendChild(docLink);\n",
              "        }\n",
              "      </script>\n",
              "    </div>\n",
              "  </div>\n",
              "  "
            ]
          },
          "metadata": {},
          "execution_count": 130
        }
      ]
    },
    {
      "cell_type": "code",
      "source": [
        "# добавлю от себя, trtbps - чсс в спокойном состоянии, thalachh - чсс максимальное\n",
        "# найду разницу между столбами, столбцов меньше, данные лучше\n",
        "heart['diff'] = heart['thalachh'] - heart['trtbps']"
      ],
      "metadata": {
        "id": "uYgsYVX2uGdv"
      },
      "execution_count": 132,
      "outputs": []
    },
    {
      "cell_type": "code",
      "source": [
        "# посмотрим, что получилось, удалив столбцы trtbps и thalachh\n",
        "heart.drop(['trtbps', 'thalachh'], axis = 1, inplace = True)\n",
        "heart.drop(['cp', 'restecg'], axis = 1, inplace = True)\n",
        "heart.head(3)"
      ],
      "metadata": {
        "colab": {
          "base_uri": "https://localhost:8080/",
          "height": 143
        },
        "id": "tuTXlkFoulw7",
        "outputId": "d426ab6d-364e-4fcb-9b15-2e1231d489f1"
      },
      "execution_count": 134,
      "outputs": [
        {
          "output_type": "execute_result",
          "data": {
            "text/plain": [
              "   age  sex  exng  caa  thall  output  1  2  3  1  2  1  2  3  1  2  diff\n",
              "0   63    1     0    0      1       1  0  0  1  0  0  0  0  1  0  0     5\n",
              "1   37    1     0    0      2       1  0  1  0  1  0  0  1  0  1  0    57\n",
              "2   41    0     0    0      2       1  1  0  0  0  0  1  0  0  0  0    42"
            ],
            "text/html": [
              "\n",
              "  <div id=\"df-fde9430d-1c34-4f83-aaec-3c8334f4b832\">\n",
              "    <div class=\"colab-df-container\">\n",
              "      <div>\n",
              "<style scoped>\n",
              "    .dataframe tbody tr th:only-of-type {\n",
              "        vertical-align: middle;\n",
              "    }\n",
              "\n",
              "    .dataframe tbody tr th {\n",
              "        vertical-align: top;\n",
              "    }\n",
              "\n",
              "    .dataframe thead th {\n",
              "        text-align: right;\n",
              "    }\n",
              "</style>\n",
              "<table border=\"1\" class=\"dataframe\">\n",
              "  <thead>\n",
              "    <tr style=\"text-align: right;\">\n",
              "      <th></th>\n",
              "      <th>age</th>\n",
              "      <th>sex</th>\n",
              "      <th>exng</th>\n",
              "      <th>caa</th>\n",
              "      <th>thall</th>\n",
              "      <th>output</th>\n",
              "      <th>1</th>\n",
              "      <th>2</th>\n",
              "      <th>3</th>\n",
              "      <th>1</th>\n",
              "      <th>2</th>\n",
              "      <th>1</th>\n",
              "      <th>2</th>\n",
              "      <th>3</th>\n",
              "      <th>1</th>\n",
              "      <th>2</th>\n",
              "      <th>diff</th>\n",
              "    </tr>\n",
              "  </thead>\n",
              "  <tbody>\n",
              "    <tr>\n",
              "      <th>0</th>\n",
              "      <td>63</td>\n",
              "      <td>1</td>\n",
              "      <td>0</td>\n",
              "      <td>0</td>\n",
              "      <td>1</td>\n",
              "      <td>1</td>\n",
              "      <td>0</td>\n",
              "      <td>0</td>\n",
              "      <td>1</td>\n",
              "      <td>0</td>\n",
              "      <td>0</td>\n",
              "      <td>0</td>\n",
              "      <td>0</td>\n",
              "      <td>1</td>\n",
              "      <td>0</td>\n",
              "      <td>0</td>\n",
              "      <td>5</td>\n",
              "    </tr>\n",
              "    <tr>\n",
              "      <th>1</th>\n",
              "      <td>37</td>\n",
              "      <td>1</td>\n",
              "      <td>0</td>\n",
              "      <td>0</td>\n",
              "      <td>2</td>\n",
              "      <td>1</td>\n",
              "      <td>0</td>\n",
              "      <td>1</td>\n",
              "      <td>0</td>\n",
              "      <td>1</td>\n",
              "      <td>0</td>\n",
              "      <td>0</td>\n",
              "      <td>1</td>\n",
              "      <td>0</td>\n",
              "      <td>1</td>\n",
              "      <td>0</td>\n",
              "      <td>57</td>\n",
              "    </tr>\n",
              "    <tr>\n",
              "      <th>2</th>\n",
              "      <td>41</td>\n",
              "      <td>0</td>\n",
              "      <td>0</td>\n",
              "      <td>0</td>\n",
              "      <td>2</td>\n",
              "      <td>1</td>\n",
              "      <td>1</td>\n",
              "      <td>0</td>\n",
              "      <td>0</td>\n",
              "      <td>0</td>\n",
              "      <td>0</td>\n",
              "      <td>1</td>\n",
              "      <td>0</td>\n",
              "      <td>0</td>\n",
              "      <td>0</td>\n",
              "      <td>0</td>\n",
              "      <td>42</td>\n",
              "    </tr>\n",
              "  </tbody>\n",
              "</table>\n",
              "</div>\n",
              "      <button class=\"colab-df-convert\" onclick=\"convertToInteractive('df-fde9430d-1c34-4f83-aaec-3c8334f4b832')\"\n",
              "              title=\"Convert this dataframe to an interactive table.\"\n",
              "              style=\"display:none;\">\n",
              "        \n",
              "  <svg xmlns=\"http://www.w3.org/2000/svg\" height=\"24px\"viewBox=\"0 0 24 24\"\n",
              "       width=\"24px\">\n",
              "    <path d=\"M0 0h24v24H0V0z\" fill=\"none\"/>\n",
              "    <path d=\"M18.56 5.44l.94 2.06.94-2.06 2.06-.94-2.06-.94-.94-2.06-.94 2.06-2.06.94zm-11 1L8.5 8.5l.94-2.06 2.06-.94-2.06-.94L8.5 2.5l-.94 2.06-2.06.94zm10 10l.94 2.06.94-2.06 2.06-.94-2.06-.94-.94-2.06-.94 2.06-2.06.94z\"/><path d=\"M17.41 7.96l-1.37-1.37c-.4-.4-.92-.59-1.43-.59-.52 0-1.04.2-1.43.59L10.3 9.45l-7.72 7.72c-.78.78-.78 2.05 0 2.83L4 21.41c.39.39.9.59 1.41.59.51 0 1.02-.2 1.41-.59l7.78-7.78 2.81-2.81c.8-.78.8-2.07 0-2.86zM5.41 20L4 18.59l7.72-7.72 1.47 1.35L5.41 20z\"/>\n",
              "  </svg>\n",
              "      </button>\n",
              "      \n",
              "  <style>\n",
              "    .colab-df-container {\n",
              "      display:flex;\n",
              "      flex-wrap:wrap;\n",
              "      gap: 12px;\n",
              "    }\n",
              "\n",
              "    .colab-df-convert {\n",
              "      background-color: #E8F0FE;\n",
              "      border: none;\n",
              "      border-radius: 50%;\n",
              "      cursor: pointer;\n",
              "      display: none;\n",
              "      fill: #1967D2;\n",
              "      height: 32px;\n",
              "      padding: 0 0 0 0;\n",
              "      width: 32px;\n",
              "    }\n",
              "\n",
              "    .colab-df-convert:hover {\n",
              "      background-color: #E2EBFA;\n",
              "      box-shadow: 0px 1px 2px rgba(60, 64, 67, 0.3), 0px 1px 3px 1px rgba(60, 64, 67, 0.15);\n",
              "      fill: #174EA6;\n",
              "    }\n",
              "\n",
              "    [theme=dark] .colab-df-convert {\n",
              "      background-color: #3B4455;\n",
              "      fill: #D2E3FC;\n",
              "    }\n",
              "\n",
              "    [theme=dark] .colab-df-convert:hover {\n",
              "      background-color: #434B5C;\n",
              "      box-shadow: 0px 1px 3px 1px rgba(0, 0, 0, 0.15);\n",
              "      filter: drop-shadow(0px 1px 2px rgba(0, 0, 0, 0.3));\n",
              "      fill: #FFFFFF;\n",
              "    }\n",
              "  </style>\n",
              "\n",
              "      <script>\n",
              "        const buttonEl =\n",
              "          document.querySelector('#df-fde9430d-1c34-4f83-aaec-3c8334f4b832 button.colab-df-convert');\n",
              "        buttonEl.style.display =\n",
              "          google.colab.kernel.accessAllowed ? 'block' : 'none';\n",
              "\n",
              "        async function convertToInteractive(key) {\n",
              "          const element = document.querySelector('#df-fde9430d-1c34-4f83-aaec-3c8334f4b832');\n",
              "          const dataTable =\n",
              "            await google.colab.kernel.invokeFunction('convertToInteractive',\n",
              "                                                     [key], {});\n",
              "          if (!dataTable) return;\n",
              "\n",
              "          const docLinkHtml = 'Like what you see? Visit the ' +\n",
              "            '<a target=\"_blank\" href=https://colab.research.google.com/notebooks/data_table.ipynb>data table notebook</a>'\n",
              "            + ' to learn more about interactive tables.';\n",
              "          element.innerHTML = '';\n",
              "          dataTable['output_type'] = 'display_data';\n",
              "          await google.colab.output.renderOutput(dataTable, element);\n",
              "          const docLink = document.createElement('div');\n",
              "          docLink.innerHTML = docLinkHtml;\n",
              "          element.appendChild(docLink);\n",
              "        }\n",
              "      </script>\n",
              "    </div>\n",
              "  </div>\n",
              "  "
            ]
          },
          "metadata": {},
          "execution_count": 134
        }
      ]
    },
    {
      "cell_type": "code",
      "source": [
        "# забыла про thall\n",
        "thall = pd.get_dummies(heart['thall'], drop_first = True)\n",
        "heart = pd.concat([heart, thall], axis = 1)\n",
        "heart.drop('thall', axis = 1, inplace = True)\n",
        "heart.head(3)"
      ],
      "metadata": {
        "colab": {
          "base_uri": "https://localhost:8080/",
          "height": 143
        },
        "id": "W1y_6rX_vaVk",
        "outputId": "410064db-cdd5-46c1-ff91-c0e9d8e55f3a"
      },
      "execution_count": 135,
      "outputs": [
        {
          "output_type": "execute_result",
          "data": {
            "text/plain": [
              "   age  sex  exng  caa  output  1  2  3  1  2  1  2  3  1  2  diff  1  2  3\n",
              "0   63    1     0    0       1  0  0  1  0  0  0  0  1  0  0     5  1  0  0\n",
              "1   37    1     0    0       1  0  1  0  1  0  0  1  0  1  0    57  0  1  0\n",
              "2   41    0     0    0       1  1  0  0  0  0  1  0  0  0  0    42  0  1  0"
            ],
            "text/html": [
              "\n",
              "  <div id=\"df-7b5ebee7-2beb-4ba5-a33b-fd95cb8a1b40\">\n",
              "    <div class=\"colab-df-container\">\n",
              "      <div>\n",
              "<style scoped>\n",
              "    .dataframe tbody tr th:only-of-type {\n",
              "        vertical-align: middle;\n",
              "    }\n",
              "\n",
              "    .dataframe tbody tr th {\n",
              "        vertical-align: top;\n",
              "    }\n",
              "\n",
              "    .dataframe thead th {\n",
              "        text-align: right;\n",
              "    }\n",
              "</style>\n",
              "<table border=\"1\" class=\"dataframe\">\n",
              "  <thead>\n",
              "    <tr style=\"text-align: right;\">\n",
              "      <th></th>\n",
              "      <th>age</th>\n",
              "      <th>sex</th>\n",
              "      <th>exng</th>\n",
              "      <th>caa</th>\n",
              "      <th>output</th>\n",
              "      <th>1</th>\n",
              "      <th>2</th>\n",
              "      <th>3</th>\n",
              "      <th>1</th>\n",
              "      <th>2</th>\n",
              "      <th>1</th>\n",
              "      <th>2</th>\n",
              "      <th>3</th>\n",
              "      <th>1</th>\n",
              "      <th>2</th>\n",
              "      <th>diff</th>\n",
              "      <th>1</th>\n",
              "      <th>2</th>\n",
              "      <th>3</th>\n",
              "    </tr>\n",
              "  </thead>\n",
              "  <tbody>\n",
              "    <tr>\n",
              "      <th>0</th>\n",
              "      <td>63</td>\n",
              "      <td>1</td>\n",
              "      <td>0</td>\n",
              "      <td>0</td>\n",
              "      <td>1</td>\n",
              "      <td>0</td>\n",
              "      <td>0</td>\n",
              "      <td>1</td>\n",
              "      <td>0</td>\n",
              "      <td>0</td>\n",
              "      <td>0</td>\n",
              "      <td>0</td>\n",
              "      <td>1</td>\n",
              "      <td>0</td>\n",
              "      <td>0</td>\n",
              "      <td>5</td>\n",
              "      <td>1</td>\n",
              "      <td>0</td>\n",
              "      <td>0</td>\n",
              "    </tr>\n",
              "    <tr>\n",
              "      <th>1</th>\n",
              "      <td>37</td>\n",
              "      <td>1</td>\n",
              "      <td>0</td>\n",
              "      <td>0</td>\n",
              "      <td>1</td>\n",
              "      <td>0</td>\n",
              "      <td>1</td>\n",
              "      <td>0</td>\n",
              "      <td>1</td>\n",
              "      <td>0</td>\n",
              "      <td>0</td>\n",
              "      <td>1</td>\n",
              "      <td>0</td>\n",
              "      <td>1</td>\n",
              "      <td>0</td>\n",
              "      <td>57</td>\n",
              "      <td>0</td>\n",
              "      <td>1</td>\n",
              "      <td>0</td>\n",
              "    </tr>\n",
              "    <tr>\n",
              "      <th>2</th>\n",
              "      <td>41</td>\n",
              "      <td>0</td>\n",
              "      <td>0</td>\n",
              "      <td>0</td>\n",
              "      <td>1</td>\n",
              "      <td>1</td>\n",
              "      <td>0</td>\n",
              "      <td>0</td>\n",
              "      <td>0</td>\n",
              "      <td>0</td>\n",
              "      <td>1</td>\n",
              "      <td>0</td>\n",
              "      <td>0</td>\n",
              "      <td>0</td>\n",
              "      <td>0</td>\n",
              "      <td>42</td>\n",
              "      <td>0</td>\n",
              "      <td>1</td>\n",
              "      <td>0</td>\n",
              "    </tr>\n",
              "  </tbody>\n",
              "</table>\n",
              "</div>\n",
              "      <button class=\"colab-df-convert\" onclick=\"convertToInteractive('df-7b5ebee7-2beb-4ba5-a33b-fd95cb8a1b40')\"\n",
              "              title=\"Convert this dataframe to an interactive table.\"\n",
              "              style=\"display:none;\">\n",
              "        \n",
              "  <svg xmlns=\"http://www.w3.org/2000/svg\" height=\"24px\"viewBox=\"0 0 24 24\"\n",
              "       width=\"24px\">\n",
              "    <path d=\"M0 0h24v24H0V0z\" fill=\"none\"/>\n",
              "    <path d=\"M18.56 5.44l.94 2.06.94-2.06 2.06-.94-2.06-.94-.94-2.06-.94 2.06-2.06.94zm-11 1L8.5 8.5l.94-2.06 2.06-.94-2.06-.94L8.5 2.5l-.94 2.06-2.06.94zm10 10l.94 2.06.94-2.06 2.06-.94-2.06-.94-.94-2.06-.94 2.06-2.06.94z\"/><path d=\"M17.41 7.96l-1.37-1.37c-.4-.4-.92-.59-1.43-.59-.52 0-1.04.2-1.43.59L10.3 9.45l-7.72 7.72c-.78.78-.78 2.05 0 2.83L4 21.41c.39.39.9.59 1.41.59.51 0 1.02-.2 1.41-.59l7.78-7.78 2.81-2.81c.8-.78.8-2.07 0-2.86zM5.41 20L4 18.59l7.72-7.72 1.47 1.35L5.41 20z\"/>\n",
              "  </svg>\n",
              "      </button>\n",
              "      \n",
              "  <style>\n",
              "    .colab-df-container {\n",
              "      display:flex;\n",
              "      flex-wrap:wrap;\n",
              "      gap: 12px;\n",
              "    }\n",
              "\n",
              "    .colab-df-convert {\n",
              "      background-color: #E8F0FE;\n",
              "      border: none;\n",
              "      border-radius: 50%;\n",
              "      cursor: pointer;\n",
              "      display: none;\n",
              "      fill: #1967D2;\n",
              "      height: 32px;\n",
              "      padding: 0 0 0 0;\n",
              "      width: 32px;\n",
              "    }\n",
              "\n",
              "    .colab-df-convert:hover {\n",
              "      background-color: #E2EBFA;\n",
              "      box-shadow: 0px 1px 2px rgba(60, 64, 67, 0.3), 0px 1px 3px 1px rgba(60, 64, 67, 0.15);\n",
              "      fill: #174EA6;\n",
              "    }\n",
              "\n",
              "    [theme=dark] .colab-df-convert {\n",
              "      background-color: #3B4455;\n",
              "      fill: #D2E3FC;\n",
              "    }\n",
              "\n",
              "    [theme=dark] .colab-df-convert:hover {\n",
              "      background-color: #434B5C;\n",
              "      box-shadow: 0px 1px 3px 1px rgba(0, 0, 0, 0.15);\n",
              "      filter: drop-shadow(0px 1px 2px rgba(0, 0, 0, 0.3));\n",
              "      fill: #FFFFFF;\n",
              "    }\n",
              "  </style>\n",
              "\n",
              "      <script>\n",
              "        const buttonEl =\n",
              "          document.querySelector('#df-7b5ebee7-2beb-4ba5-a33b-fd95cb8a1b40 button.colab-df-convert');\n",
              "        buttonEl.style.display =\n",
              "          google.colab.kernel.accessAllowed ? 'block' : 'none';\n",
              "\n",
              "        async function convertToInteractive(key) {\n",
              "          const element = document.querySelector('#df-7b5ebee7-2beb-4ba5-a33b-fd95cb8a1b40');\n",
              "          const dataTable =\n",
              "            await google.colab.kernel.invokeFunction('convertToInteractive',\n",
              "                                                     [key], {});\n",
              "          if (!dataTable) return;\n",
              "\n",
              "          const docLinkHtml = 'Like what you see? Visit the ' +\n",
              "            '<a target=\"_blank\" href=https://colab.research.google.com/notebooks/data_table.ipynb>data table notebook</a>'\n",
              "            + ' to learn more about interactive tables.';\n",
              "          element.innerHTML = '';\n",
              "          dataTable['output_type'] = 'display_data';\n",
              "          await google.colab.output.renderOutput(dataTable, element);\n",
              "          const docLink = document.createElement('div');\n",
              "          docLink.innerHTML = docLinkHtml;\n",
              "          element.appendChild(docLink);\n",
              "        }\n",
              "      </script>\n",
              "    </div>\n",
              "  </div>\n",
              "  "
            ]
          },
          "metadata": {},
          "execution_count": 135
        }
      ]
    },
    {
      "cell_type": "markdown",
      "source": [
        "Data normalization"
      ],
      "metadata": {
        "id": "3gkZwqZFvAp1"
      }
    },
    {
      "cell_type": "code",
      "source": [
        "# импортируем класс StandardScaler\n",
        "from sklearn.preprocessing import StandardScaler\n",
        " \n",
        "# создадим объект этого класса\n",
        "scaler = StandardScaler()\n",
        " \n",
        "# выберем те столбцы, которые мы хотим масштабировать\n",
        "cols_to_scale = ['age', 'diff']\n",
        "\n",
        "# рассчитаем среднее арифметическое и СКО для масштабирования данных\n",
        "scaler.fit(heart[cols_to_scale])\n",
        "\n",
        "# применим их\n",
        "heart[cols_to_scale] = scaler.transform(heart[cols_to_scale])\n",
        "\n",
        "# посмотрим на результат\n",
        "heart.head(3)"
      ],
      "metadata": {
        "colab": {
          "base_uri": "https://localhost:8080/",
          "height": 143
        },
        "id": "Q28_0VIzvDVU",
        "outputId": "16e19a3e-ebf4-4344-ca2a-6470018e32eb"
      },
      "execution_count": 136,
      "outputs": [
        {
          "output_type": "execute_result",
          "data": {
            "text/plain": [
              "        age  sex  exng  caa  output  1  2  3  1  2  1  2  3  1  2      diff  \\\n",
              "0  0.952197    1     0    0       1  0  0  1  0  0  0  0  1  0  0 -0.442318   \n",
              "1 -1.915313    1     0    0       1  0  1  0  1  0  0  1  0  1  0  1.323816   \n",
              "2 -1.474158    0     0    0       1  1  0  0  0  0  1  0  0  0  0  0.814354   \n",
              "\n",
              "   1  2  3  \n",
              "0  1  0  0  \n",
              "1  0  1  0  \n",
              "2  0  1  0  "
            ],
            "text/html": [
              "\n",
              "  <div id=\"df-fb2f9d1e-cb90-427e-8f84-e7ebf2ba9151\">\n",
              "    <div class=\"colab-df-container\">\n",
              "      <div>\n",
              "<style scoped>\n",
              "    .dataframe tbody tr th:only-of-type {\n",
              "        vertical-align: middle;\n",
              "    }\n",
              "\n",
              "    .dataframe tbody tr th {\n",
              "        vertical-align: top;\n",
              "    }\n",
              "\n",
              "    .dataframe thead th {\n",
              "        text-align: right;\n",
              "    }\n",
              "</style>\n",
              "<table border=\"1\" class=\"dataframe\">\n",
              "  <thead>\n",
              "    <tr style=\"text-align: right;\">\n",
              "      <th></th>\n",
              "      <th>age</th>\n",
              "      <th>sex</th>\n",
              "      <th>exng</th>\n",
              "      <th>caa</th>\n",
              "      <th>output</th>\n",
              "      <th>1</th>\n",
              "      <th>2</th>\n",
              "      <th>3</th>\n",
              "      <th>1</th>\n",
              "      <th>2</th>\n",
              "      <th>1</th>\n",
              "      <th>2</th>\n",
              "      <th>3</th>\n",
              "      <th>1</th>\n",
              "      <th>2</th>\n",
              "      <th>diff</th>\n",
              "      <th>1</th>\n",
              "      <th>2</th>\n",
              "      <th>3</th>\n",
              "    </tr>\n",
              "  </thead>\n",
              "  <tbody>\n",
              "    <tr>\n",
              "      <th>0</th>\n",
              "      <td>0.952197</td>\n",
              "      <td>1</td>\n",
              "      <td>0</td>\n",
              "      <td>0</td>\n",
              "      <td>1</td>\n",
              "      <td>0</td>\n",
              "      <td>0</td>\n",
              "      <td>1</td>\n",
              "      <td>0</td>\n",
              "      <td>0</td>\n",
              "      <td>0</td>\n",
              "      <td>0</td>\n",
              "      <td>1</td>\n",
              "      <td>0</td>\n",
              "      <td>0</td>\n",
              "      <td>-0.442318</td>\n",
              "      <td>1</td>\n",
              "      <td>0</td>\n",
              "      <td>0</td>\n",
              "    </tr>\n",
              "    <tr>\n",
              "      <th>1</th>\n",
              "      <td>-1.915313</td>\n",
              "      <td>1</td>\n",
              "      <td>0</td>\n",
              "      <td>0</td>\n",
              "      <td>1</td>\n",
              "      <td>0</td>\n",
              "      <td>1</td>\n",
              "      <td>0</td>\n",
              "      <td>1</td>\n",
              "      <td>0</td>\n",
              "      <td>0</td>\n",
              "      <td>1</td>\n",
              "      <td>0</td>\n",
              "      <td>1</td>\n",
              "      <td>0</td>\n",
              "      <td>1.323816</td>\n",
              "      <td>0</td>\n",
              "      <td>1</td>\n",
              "      <td>0</td>\n",
              "    </tr>\n",
              "    <tr>\n",
              "      <th>2</th>\n",
              "      <td>-1.474158</td>\n",
              "      <td>0</td>\n",
              "      <td>0</td>\n",
              "      <td>0</td>\n",
              "      <td>1</td>\n",
              "      <td>1</td>\n",
              "      <td>0</td>\n",
              "      <td>0</td>\n",
              "      <td>0</td>\n",
              "      <td>0</td>\n",
              "      <td>1</td>\n",
              "      <td>0</td>\n",
              "      <td>0</td>\n",
              "      <td>0</td>\n",
              "      <td>0</td>\n",
              "      <td>0.814354</td>\n",
              "      <td>0</td>\n",
              "      <td>1</td>\n",
              "      <td>0</td>\n",
              "    </tr>\n",
              "  </tbody>\n",
              "</table>\n",
              "</div>\n",
              "      <button class=\"colab-df-convert\" onclick=\"convertToInteractive('df-fb2f9d1e-cb90-427e-8f84-e7ebf2ba9151')\"\n",
              "              title=\"Convert this dataframe to an interactive table.\"\n",
              "              style=\"display:none;\">\n",
              "        \n",
              "  <svg xmlns=\"http://www.w3.org/2000/svg\" height=\"24px\"viewBox=\"0 0 24 24\"\n",
              "       width=\"24px\">\n",
              "    <path d=\"M0 0h24v24H0V0z\" fill=\"none\"/>\n",
              "    <path d=\"M18.56 5.44l.94 2.06.94-2.06 2.06-.94-2.06-.94-.94-2.06-.94 2.06-2.06.94zm-11 1L8.5 8.5l.94-2.06 2.06-.94-2.06-.94L8.5 2.5l-.94 2.06-2.06.94zm10 10l.94 2.06.94-2.06 2.06-.94-2.06-.94-.94-2.06-.94 2.06-2.06.94z\"/><path d=\"M17.41 7.96l-1.37-1.37c-.4-.4-.92-.59-1.43-.59-.52 0-1.04.2-1.43.59L10.3 9.45l-7.72 7.72c-.78.78-.78 2.05 0 2.83L4 21.41c.39.39.9.59 1.41.59.51 0 1.02-.2 1.41-.59l7.78-7.78 2.81-2.81c.8-.78.8-2.07 0-2.86zM5.41 20L4 18.59l7.72-7.72 1.47 1.35L5.41 20z\"/>\n",
              "  </svg>\n",
              "      </button>\n",
              "      \n",
              "  <style>\n",
              "    .colab-df-container {\n",
              "      display:flex;\n",
              "      flex-wrap:wrap;\n",
              "      gap: 12px;\n",
              "    }\n",
              "\n",
              "    .colab-df-convert {\n",
              "      background-color: #E8F0FE;\n",
              "      border: none;\n",
              "      border-radius: 50%;\n",
              "      cursor: pointer;\n",
              "      display: none;\n",
              "      fill: #1967D2;\n",
              "      height: 32px;\n",
              "      padding: 0 0 0 0;\n",
              "      width: 32px;\n",
              "    }\n",
              "\n",
              "    .colab-df-convert:hover {\n",
              "      background-color: #E2EBFA;\n",
              "      box-shadow: 0px 1px 2px rgba(60, 64, 67, 0.3), 0px 1px 3px 1px rgba(60, 64, 67, 0.15);\n",
              "      fill: #174EA6;\n",
              "    }\n",
              "\n",
              "    [theme=dark] .colab-df-convert {\n",
              "      background-color: #3B4455;\n",
              "      fill: #D2E3FC;\n",
              "    }\n",
              "\n",
              "    [theme=dark] .colab-df-convert:hover {\n",
              "      background-color: #434B5C;\n",
              "      box-shadow: 0px 1px 3px 1px rgba(0, 0, 0, 0.15);\n",
              "      filter: drop-shadow(0px 1px 2px rgba(0, 0, 0, 0.3));\n",
              "      fill: #FFFFFF;\n",
              "    }\n",
              "  </style>\n",
              "\n",
              "      <script>\n",
              "        const buttonEl =\n",
              "          document.querySelector('#df-fb2f9d1e-cb90-427e-8f84-e7ebf2ba9151 button.colab-df-convert');\n",
              "        buttonEl.style.display =\n",
              "          google.colab.kernel.accessAllowed ? 'block' : 'none';\n",
              "\n",
              "        async function convertToInteractive(key) {\n",
              "          const element = document.querySelector('#df-fb2f9d1e-cb90-427e-8f84-e7ebf2ba9151');\n",
              "          const dataTable =\n",
              "            await google.colab.kernel.invokeFunction('convertToInteractive',\n",
              "                                                     [key], {});\n",
              "          if (!dataTable) return;\n",
              "\n",
              "          const docLinkHtml = 'Like what you see? Visit the ' +\n",
              "            '<a target=\"_blank\" href=https://colab.research.google.com/notebooks/data_table.ipynb>data table notebook</a>'\n",
              "            + ' to learn more about interactive tables.';\n",
              "          element.innerHTML = '';\n",
              "          dataTable['output_type'] = 'display_data';\n",
              "          await google.colab.output.renderOutput(dataTable, element);\n",
              "          const docLink = document.createElement('div');\n",
              "          docLink.innerHTML = docLinkHtml;\n",
              "          element.appendChild(docLink);\n",
              "        }\n",
              "      </script>\n",
              "    </div>\n",
              "  </div>\n",
              "  "
            ]
          },
          "metadata": {},
          "execution_count": 136
        }
      ]
    },
    {
      "cell_type": "code",
      "source": [
        "# некоторые названия столбцов теперь представляют собой числа, так быть не должно\n",
        "heart.columns"
      ],
      "metadata": {
        "colab": {
          "base_uri": "https://localhost:8080/"
        },
        "id": "xyJTh125wnWE",
        "outputId": "9f891f11-db9c-4b7e-82c2-eb26282bec06"
      },
      "execution_count": 137,
      "outputs": [
        {
          "output_type": "execute_result",
          "data": {
            "text/plain": [
              "Index([   'age',    'sex',   'exng',    'caa', 'output',        1,        2,\n",
              "              3,        1,        2,        1,        2,        3,        1,\n",
              "              2,   'diff',        1,        2,        3],\n",
              "      dtype='object')"
            ]
          },
          "metadata": {},
          "execution_count": 137
        }
      ]
    },
    {
      "cell_type": "code",
      "source": [
        "# преобразуем эти переменные в тип str через функцию map()\n",
        "heart.columns = heart.columns.map(str)\n",
        "heart.columns"
      ],
      "metadata": {
        "colab": {
          "base_uri": "https://localhost:8080/"
        },
        "id": "I7vfg6P2wras",
        "outputId": "79ee4503-0509-4b2a-e168-7c2bd450b283"
      },
      "execution_count": 138,
      "outputs": [
        {
          "output_type": "execute_result",
          "data": {
            "text/plain": [
              "Index(['age', 'sex', 'exng', 'caa', 'output', '1', '2', '3', '1', '2', '1',\n",
              "       '2', '3', '1', '2', 'diff', '1', '2', '3'],\n",
              "      dtype='object')"
            ]
          },
          "metadata": {},
          "execution_count": 138
        }
      ]
    },
    {
      "cell_type": "markdown",
      "source": [
        "####2. Dividing the training sample into features (X_heart) and target variable (y_heart)"
      ],
      "metadata": {
        "id": "EctsO3R2w4lT"
      }
    },
    {
      "cell_type": "code",
      "source": [
        "# поместим в X_heart все кроме столбца output\n",
        "X_heart = heart.drop('output', axis = 1)\n",
        "\n",
        "# столбец 'putput' станет нашей целевой переменной (y_heart)\n",
        "y_heart = heart['output']"
      ],
      "metadata": {
        "id": "1UYHrQDCxYdA"
      },
      "execution_count": 140,
      "outputs": []
    },
    {
      "cell_type": "code",
      "source": [
        "X_heart.head(3)"
      ],
      "metadata": {
        "colab": {
          "base_uri": "https://localhost:8080/",
          "height": 143
        },
        "id": "j-Y7aLfVxijM",
        "outputId": "e0a8a886-5ec4-426e-b664-7545eff5b17c"
      },
      "execution_count": 141,
      "outputs": [
        {
          "output_type": "execute_result",
          "data": {
            "text/plain": [
              "        age  sex  exng  caa  1  2  3  1  2  1  2  3  1  2      diff  1  2  3\n",
              "0  0.952197    1     0    0  0  0  1  0  0  0  0  1  0  0 -0.442318  1  0  0\n",
              "1 -1.915313    1     0    0  0  1  0  1  0  0  1  0  1  0  1.323816  0  1  0\n",
              "2 -1.474158    0     0    0  1  0  0  0  0  1  0  0  0  0  0.814354  0  1  0"
            ],
            "text/html": [
              "\n",
              "  <div id=\"df-19d211f2-faf9-423a-bfe0-eb1748bd5421\">\n",
              "    <div class=\"colab-df-container\">\n",
              "      <div>\n",
              "<style scoped>\n",
              "    .dataframe tbody tr th:only-of-type {\n",
              "        vertical-align: middle;\n",
              "    }\n",
              "\n",
              "    .dataframe tbody tr th {\n",
              "        vertical-align: top;\n",
              "    }\n",
              "\n",
              "    .dataframe thead th {\n",
              "        text-align: right;\n",
              "    }\n",
              "</style>\n",
              "<table border=\"1\" class=\"dataframe\">\n",
              "  <thead>\n",
              "    <tr style=\"text-align: right;\">\n",
              "      <th></th>\n",
              "      <th>age</th>\n",
              "      <th>sex</th>\n",
              "      <th>exng</th>\n",
              "      <th>caa</th>\n",
              "      <th>1</th>\n",
              "      <th>2</th>\n",
              "      <th>3</th>\n",
              "      <th>1</th>\n",
              "      <th>2</th>\n",
              "      <th>1</th>\n",
              "      <th>2</th>\n",
              "      <th>3</th>\n",
              "      <th>1</th>\n",
              "      <th>2</th>\n",
              "      <th>diff</th>\n",
              "      <th>1</th>\n",
              "      <th>2</th>\n",
              "      <th>3</th>\n",
              "    </tr>\n",
              "  </thead>\n",
              "  <tbody>\n",
              "    <tr>\n",
              "      <th>0</th>\n",
              "      <td>0.952197</td>\n",
              "      <td>1</td>\n",
              "      <td>0</td>\n",
              "      <td>0</td>\n",
              "      <td>0</td>\n",
              "      <td>0</td>\n",
              "      <td>1</td>\n",
              "      <td>0</td>\n",
              "      <td>0</td>\n",
              "      <td>0</td>\n",
              "      <td>0</td>\n",
              "      <td>1</td>\n",
              "      <td>0</td>\n",
              "      <td>0</td>\n",
              "      <td>-0.442318</td>\n",
              "      <td>1</td>\n",
              "      <td>0</td>\n",
              "      <td>0</td>\n",
              "    </tr>\n",
              "    <tr>\n",
              "      <th>1</th>\n",
              "      <td>-1.915313</td>\n",
              "      <td>1</td>\n",
              "      <td>0</td>\n",
              "      <td>0</td>\n",
              "      <td>0</td>\n",
              "      <td>1</td>\n",
              "      <td>0</td>\n",
              "      <td>1</td>\n",
              "      <td>0</td>\n",
              "      <td>0</td>\n",
              "      <td>1</td>\n",
              "      <td>0</td>\n",
              "      <td>1</td>\n",
              "      <td>0</td>\n",
              "      <td>1.323816</td>\n",
              "      <td>0</td>\n",
              "      <td>1</td>\n",
              "      <td>0</td>\n",
              "    </tr>\n",
              "    <tr>\n",
              "      <th>2</th>\n",
              "      <td>-1.474158</td>\n",
              "      <td>0</td>\n",
              "      <td>0</td>\n",
              "      <td>0</td>\n",
              "      <td>1</td>\n",
              "      <td>0</td>\n",
              "      <td>0</td>\n",
              "      <td>0</td>\n",
              "      <td>0</td>\n",
              "      <td>1</td>\n",
              "      <td>0</td>\n",
              "      <td>0</td>\n",
              "      <td>0</td>\n",
              "      <td>0</td>\n",
              "      <td>0.814354</td>\n",
              "      <td>0</td>\n",
              "      <td>1</td>\n",
              "      <td>0</td>\n",
              "    </tr>\n",
              "  </tbody>\n",
              "</table>\n",
              "</div>\n",
              "      <button class=\"colab-df-convert\" onclick=\"convertToInteractive('df-19d211f2-faf9-423a-bfe0-eb1748bd5421')\"\n",
              "              title=\"Convert this dataframe to an interactive table.\"\n",
              "              style=\"display:none;\">\n",
              "        \n",
              "  <svg xmlns=\"http://www.w3.org/2000/svg\" height=\"24px\"viewBox=\"0 0 24 24\"\n",
              "       width=\"24px\">\n",
              "    <path d=\"M0 0h24v24H0V0z\" fill=\"none\"/>\n",
              "    <path d=\"M18.56 5.44l.94 2.06.94-2.06 2.06-.94-2.06-.94-.94-2.06-.94 2.06-2.06.94zm-11 1L8.5 8.5l.94-2.06 2.06-.94-2.06-.94L8.5 2.5l-.94 2.06-2.06.94zm10 10l.94 2.06.94-2.06 2.06-.94-2.06-.94-.94-2.06-.94 2.06-2.06.94z\"/><path d=\"M17.41 7.96l-1.37-1.37c-.4-.4-.92-.59-1.43-.59-.52 0-1.04.2-1.43.59L10.3 9.45l-7.72 7.72c-.78.78-.78 2.05 0 2.83L4 21.41c.39.39.9.59 1.41.59.51 0 1.02-.2 1.41-.59l7.78-7.78 2.81-2.81c.8-.78.8-2.07 0-2.86zM5.41 20L4 18.59l7.72-7.72 1.47 1.35L5.41 20z\"/>\n",
              "  </svg>\n",
              "      </button>\n",
              "      \n",
              "  <style>\n",
              "    .colab-df-container {\n",
              "      display:flex;\n",
              "      flex-wrap:wrap;\n",
              "      gap: 12px;\n",
              "    }\n",
              "\n",
              "    .colab-df-convert {\n",
              "      background-color: #E8F0FE;\n",
              "      border: none;\n",
              "      border-radius: 50%;\n",
              "      cursor: pointer;\n",
              "      display: none;\n",
              "      fill: #1967D2;\n",
              "      height: 32px;\n",
              "      padding: 0 0 0 0;\n",
              "      width: 32px;\n",
              "    }\n",
              "\n",
              "    .colab-df-convert:hover {\n",
              "      background-color: #E2EBFA;\n",
              "      box-shadow: 0px 1px 2px rgba(60, 64, 67, 0.3), 0px 1px 3px 1px rgba(60, 64, 67, 0.15);\n",
              "      fill: #174EA6;\n",
              "    }\n",
              "\n",
              "    [theme=dark] .colab-df-convert {\n",
              "      background-color: #3B4455;\n",
              "      fill: #D2E3FC;\n",
              "    }\n",
              "\n",
              "    [theme=dark] .colab-df-convert:hover {\n",
              "      background-color: #434B5C;\n",
              "      box-shadow: 0px 1px 3px 1px rgba(0, 0, 0, 0.15);\n",
              "      filter: drop-shadow(0px 1px 2px rgba(0, 0, 0, 0.3));\n",
              "      fill: #FFFFFF;\n",
              "    }\n",
              "  </style>\n",
              "\n",
              "      <script>\n",
              "        const buttonEl =\n",
              "          document.querySelector('#df-19d211f2-faf9-423a-bfe0-eb1748bd5421 button.colab-df-convert');\n",
              "        buttonEl.style.display =\n",
              "          google.colab.kernel.accessAllowed ? 'block' : 'none';\n",
              "\n",
              "        async function convertToInteractive(key) {\n",
              "          const element = document.querySelector('#df-19d211f2-faf9-423a-bfe0-eb1748bd5421');\n",
              "          const dataTable =\n",
              "            await google.colab.kernel.invokeFunction('convertToInteractive',\n",
              "                                                     [key], {});\n",
              "          if (!dataTable) return;\n",
              "\n",
              "          const docLinkHtml = 'Like what you see? Visit the ' +\n",
              "            '<a target=\"_blank\" href=https://colab.research.google.com/notebooks/data_table.ipynb>data table notebook</a>'\n",
              "            + ' to learn more about interactive tables.';\n",
              "          element.innerHTML = '';\n",
              "          dataTable['output_type'] = 'display_data';\n",
              "          await google.colab.output.renderOutput(dataTable, element);\n",
              "          const docLink = document.createElement('div');\n",
              "          docLink.innerHTML = docLinkHtml;\n",
              "          element.appendChild(docLink);\n",
              "        }\n",
              "      </script>\n",
              "    </div>\n",
              "  </div>\n",
              "  "
            ]
          },
          "metadata": {},
          "execution_count": 141
        }
      ]
    },
    {
      "cell_type": "markdown",
      "source": [
        "####3. Train the logistic regression model"
      ],
      "metadata": {
        "id": "-YpsFZioxsG5"
      }
    },
    {
      "cell_type": "markdown",
      "source": [
        "Train the Model"
      ],
      "metadata": {
        "id": "fJd64YlbxyEB"
      }
    },
    {
      "cell_type": "code",
      "source": [
        "# импортируем логистическую регрессию из модуля linear_model библиотеки sklearn\n",
        "from sklearn.linear_model import LogisticRegression\n",
        "\n",
        "# создадим объект этого класса и запишем его в переменную model\n",
        "model = LogisticRegression()\n",
        "\n",
        "# обучим нашу модель\n",
        "model.fit(X_heart, y_heart)"
      ],
      "metadata": {
        "colab": {
          "base_uri": "https://localhost:8080/"
        },
        "id": "65rYXyWsxxL6",
        "outputId": "1827d85b-bca1-4e37-f5b9-8efe98c2e537"
      },
      "execution_count": 142,
      "outputs": [
        {
          "output_type": "execute_result",
          "data": {
            "text/plain": [
              "LogisticRegression()"
            ]
          },
          "metadata": {},
          "execution_count": 142
        }
      ]
    },
    {
      "cell_type": "markdown",
      "source": [
        "Let's make a prediction on the training sample"
      ],
      "metadata": {
        "id": "iffVn_bnx_c6"
      }
    },
    {
      "cell_type": "code",
      "source": [
        "# сделаем предсказание класса на обучающей выборке\n",
        "y_pred_heart = model.predict(X_heart)"
      ],
      "metadata": {
        "id": "nvcmBzdKyDeT"
      },
      "execution_count": 143,
      "outputs": []
    },
    {
      "cell_type": "markdown",
      "source": [
        "Evaluation of the quality of the model on the training sample"
      ],
      "metadata": {
        "id": "rexIbgCtyIL_"
      }
    },
    {
      "cell_type": "code",
      "source": [
        "# построим матрицу ошибок\n",
        "from sklearn.metrics import confusion_matrix\n",
        "\n",
        "# передадим ей фактические и прогнозные значения\n",
        "conf_matrix = confusion_matrix(y_heart, y_pred_heart)\n",
        "\n",
        "# преобразуем в датафрейм\n",
        "conf_matrix_df = pd.DataFrame(conf_matrix)\n",
        "conf_matrix_df"
      ],
      "metadata": {
        "colab": {
          "base_uri": "https://localhost:8080/",
          "height": 112
        },
        "id": "L5NBiq3uyOoZ",
        "outputId": "28516dcb-84ef-4afe-c288-dd358e4ebb3c"
      },
      "execution_count": 144,
      "outputs": [
        {
          "output_type": "execute_result",
          "data": {
            "text/plain": [
              "     0    1\n",
              "0  111   27\n",
              "1   16  149"
            ],
            "text/html": [
              "\n",
              "  <div id=\"df-30536966-d7d4-45ba-98cf-5610ed192e97\">\n",
              "    <div class=\"colab-df-container\">\n",
              "      <div>\n",
              "<style scoped>\n",
              "    .dataframe tbody tr th:only-of-type {\n",
              "        vertical-align: middle;\n",
              "    }\n",
              "\n",
              "    .dataframe tbody tr th {\n",
              "        vertical-align: top;\n",
              "    }\n",
              "\n",
              "    .dataframe thead th {\n",
              "        text-align: right;\n",
              "    }\n",
              "</style>\n",
              "<table border=\"1\" class=\"dataframe\">\n",
              "  <thead>\n",
              "    <tr style=\"text-align: right;\">\n",
              "      <th></th>\n",
              "      <th>0</th>\n",
              "      <th>1</th>\n",
              "    </tr>\n",
              "  </thead>\n",
              "  <tbody>\n",
              "    <tr>\n",
              "      <th>0</th>\n",
              "      <td>111</td>\n",
              "      <td>27</td>\n",
              "    </tr>\n",
              "    <tr>\n",
              "      <th>1</th>\n",
              "      <td>16</td>\n",
              "      <td>149</td>\n",
              "    </tr>\n",
              "  </tbody>\n",
              "</table>\n",
              "</div>\n",
              "      <button class=\"colab-df-convert\" onclick=\"convertToInteractive('df-30536966-d7d4-45ba-98cf-5610ed192e97')\"\n",
              "              title=\"Convert this dataframe to an interactive table.\"\n",
              "              style=\"display:none;\">\n",
              "        \n",
              "  <svg xmlns=\"http://www.w3.org/2000/svg\" height=\"24px\"viewBox=\"0 0 24 24\"\n",
              "       width=\"24px\">\n",
              "    <path d=\"M0 0h24v24H0V0z\" fill=\"none\"/>\n",
              "    <path d=\"M18.56 5.44l.94 2.06.94-2.06 2.06-.94-2.06-.94-.94-2.06-.94 2.06-2.06.94zm-11 1L8.5 8.5l.94-2.06 2.06-.94-2.06-.94L8.5 2.5l-.94 2.06-2.06.94zm10 10l.94 2.06.94-2.06 2.06-.94-2.06-.94-.94-2.06-.94 2.06-2.06.94z\"/><path d=\"M17.41 7.96l-1.37-1.37c-.4-.4-.92-.59-1.43-.59-.52 0-1.04.2-1.43.59L10.3 9.45l-7.72 7.72c-.78.78-.78 2.05 0 2.83L4 21.41c.39.39.9.59 1.41.59.51 0 1.02-.2 1.41-.59l7.78-7.78 2.81-2.81c.8-.78.8-2.07 0-2.86zM5.41 20L4 18.59l7.72-7.72 1.47 1.35L5.41 20z\"/>\n",
              "  </svg>\n",
              "      </button>\n",
              "      \n",
              "  <style>\n",
              "    .colab-df-container {\n",
              "      display:flex;\n",
              "      flex-wrap:wrap;\n",
              "      gap: 12px;\n",
              "    }\n",
              "\n",
              "    .colab-df-convert {\n",
              "      background-color: #E8F0FE;\n",
              "      border: none;\n",
              "      border-radius: 50%;\n",
              "      cursor: pointer;\n",
              "      display: none;\n",
              "      fill: #1967D2;\n",
              "      height: 32px;\n",
              "      padding: 0 0 0 0;\n",
              "      width: 32px;\n",
              "    }\n",
              "\n",
              "    .colab-df-convert:hover {\n",
              "      background-color: #E2EBFA;\n",
              "      box-shadow: 0px 1px 2px rgba(60, 64, 67, 0.3), 0px 1px 3px 1px rgba(60, 64, 67, 0.15);\n",
              "      fill: #174EA6;\n",
              "    }\n",
              "\n",
              "    [theme=dark] .colab-df-convert {\n",
              "      background-color: #3B4455;\n",
              "      fill: #D2E3FC;\n",
              "    }\n",
              "\n",
              "    [theme=dark] .colab-df-convert:hover {\n",
              "      background-color: #434B5C;\n",
              "      box-shadow: 0px 1px 3px 1px rgba(0, 0, 0, 0.15);\n",
              "      filter: drop-shadow(0px 1px 2px rgba(0, 0, 0, 0.3));\n",
              "      fill: #FFFFFF;\n",
              "    }\n",
              "  </style>\n",
              "\n",
              "      <script>\n",
              "        const buttonEl =\n",
              "          document.querySelector('#df-30536966-d7d4-45ba-98cf-5610ed192e97 button.colab-df-convert');\n",
              "        buttonEl.style.display =\n",
              "          google.colab.kernel.accessAllowed ? 'block' : 'none';\n",
              "\n",
              "        async function convertToInteractive(key) {\n",
              "          const element = document.querySelector('#df-30536966-d7d4-45ba-98cf-5610ed192e97');\n",
              "          const dataTable =\n",
              "            await google.colab.kernel.invokeFunction('convertToInteractive',\n",
              "                                                     [key], {});\n",
              "          if (!dataTable) return;\n",
              "\n",
              "          const docLinkHtml = 'Like what you see? Visit the ' +\n",
              "            '<a target=\"_blank\" href=https://colab.research.google.com/notebooks/data_table.ipynb>data table notebook</a>'\n",
              "            + ' to learn more about interactive tables.';\n",
              "          element.innerHTML = '';\n",
              "          dataTable['output_type'] = 'display_data';\n",
              "          await google.colab.output.renderOutput(dataTable, element);\n",
              "          const docLink = document.createElement('div');\n",
              "          docLink.innerHTML = docLinkHtml;\n",
              "          element.appendChild(docLink);\n",
              "        }\n",
              "      </script>\n",
              "    </div>\n",
              "  </div>\n",
              "  "
            ]
          },
          "metadata": {},
          "execution_count": 144
        }
      ]
    },
    {
      "cell_type": "code",
      "source": [
        "# для удобства можем добавить подписи\n",
        "conf_matrix_labels = pd.DataFrame(conf_matrix, columns = ['Пр. приступ маловероятен', 'Пр. приступ вероятен'], index = ['Факт приступ маловероятен', 'Факт приступ верятен'])\n",
        "conf_matrix_labels"
      ],
      "metadata": {
        "colab": {
          "base_uri": "https://localhost:8080/",
          "height": 112
        },
        "id": "MlClkn_SyXHy",
        "outputId": "4401f49f-0d2b-4046-82ac-949a5ae561a3"
      },
      "execution_count": 145,
      "outputs": [
        {
          "output_type": "execute_result",
          "data": {
            "text/plain": [
              "                           Пр. приступ маловероятен  Пр. приступ вероятен\n",
              "Факт приступ маловероятен                       111                    27\n",
              "Факт приступ верятен                             16                   149"
            ],
            "text/html": [
              "\n",
              "  <div id=\"df-a6988161-1517-4472-ae3f-67db28ee3076\">\n",
              "    <div class=\"colab-df-container\">\n",
              "      <div>\n",
              "<style scoped>\n",
              "    .dataframe tbody tr th:only-of-type {\n",
              "        vertical-align: middle;\n",
              "    }\n",
              "\n",
              "    .dataframe tbody tr th {\n",
              "        vertical-align: top;\n",
              "    }\n",
              "\n",
              "    .dataframe thead th {\n",
              "        text-align: right;\n",
              "    }\n",
              "</style>\n",
              "<table border=\"1\" class=\"dataframe\">\n",
              "  <thead>\n",
              "    <tr style=\"text-align: right;\">\n",
              "      <th></th>\n",
              "      <th>Пр. приступ маловероятен</th>\n",
              "      <th>Пр. приступ вероятен</th>\n",
              "    </tr>\n",
              "  </thead>\n",
              "  <tbody>\n",
              "    <tr>\n",
              "      <th>Факт приступ маловероятен</th>\n",
              "      <td>111</td>\n",
              "      <td>27</td>\n",
              "    </tr>\n",
              "    <tr>\n",
              "      <th>Факт приступ верятен</th>\n",
              "      <td>16</td>\n",
              "      <td>149</td>\n",
              "    </tr>\n",
              "  </tbody>\n",
              "</table>\n",
              "</div>\n",
              "      <button class=\"colab-df-convert\" onclick=\"convertToInteractive('df-a6988161-1517-4472-ae3f-67db28ee3076')\"\n",
              "              title=\"Convert this dataframe to an interactive table.\"\n",
              "              style=\"display:none;\">\n",
              "        \n",
              "  <svg xmlns=\"http://www.w3.org/2000/svg\" height=\"24px\"viewBox=\"0 0 24 24\"\n",
              "       width=\"24px\">\n",
              "    <path d=\"M0 0h24v24H0V0z\" fill=\"none\"/>\n",
              "    <path d=\"M18.56 5.44l.94 2.06.94-2.06 2.06-.94-2.06-.94-.94-2.06-.94 2.06-2.06.94zm-11 1L8.5 8.5l.94-2.06 2.06-.94-2.06-.94L8.5 2.5l-.94 2.06-2.06.94zm10 10l.94 2.06.94-2.06 2.06-.94-2.06-.94-.94-2.06-.94 2.06-2.06.94z\"/><path d=\"M17.41 7.96l-1.37-1.37c-.4-.4-.92-.59-1.43-.59-.52 0-1.04.2-1.43.59L10.3 9.45l-7.72 7.72c-.78.78-.78 2.05 0 2.83L4 21.41c.39.39.9.59 1.41.59.51 0 1.02-.2 1.41-.59l7.78-7.78 2.81-2.81c.8-.78.8-2.07 0-2.86zM5.41 20L4 18.59l7.72-7.72 1.47 1.35L5.41 20z\"/>\n",
              "  </svg>\n",
              "      </button>\n",
              "      \n",
              "  <style>\n",
              "    .colab-df-container {\n",
              "      display:flex;\n",
              "      flex-wrap:wrap;\n",
              "      gap: 12px;\n",
              "    }\n",
              "\n",
              "    .colab-df-convert {\n",
              "      background-color: #E8F0FE;\n",
              "      border: none;\n",
              "      border-radius: 50%;\n",
              "      cursor: pointer;\n",
              "      display: none;\n",
              "      fill: #1967D2;\n",
              "      height: 32px;\n",
              "      padding: 0 0 0 0;\n",
              "      width: 32px;\n",
              "    }\n",
              "\n",
              "    .colab-df-convert:hover {\n",
              "      background-color: #E2EBFA;\n",
              "      box-shadow: 0px 1px 2px rgba(60, 64, 67, 0.3), 0px 1px 3px 1px rgba(60, 64, 67, 0.15);\n",
              "      fill: #174EA6;\n",
              "    }\n",
              "\n",
              "    [theme=dark] .colab-df-convert {\n",
              "      background-color: #3B4455;\n",
              "      fill: #D2E3FC;\n",
              "    }\n",
              "\n",
              "    [theme=dark] .colab-df-convert:hover {\n",
              "      background-color: #434B5C;\n",
              "      box-shadow: 0px 1px 3px 1px rgba(0, 0, 0, 0.15);\n",
              "      filter: drop-shadow(0px 1px 2px rgba(0, 0, 0, 0.3));\n",
              "      fill: #FFFFFF;\n",
              "    }\n",
              "  </style>\n",
              "\n",
              "      <script>\n",
              "        const buttonEl =\n",
              "          document.querySelector('#df-a6988161-1517-4472-ae3f-67db28ee3076 button.colab-df-convert');\n",
              "        buttonEl.style.display =\n",
              "          google.colab.kernel.accessAllowed ? 'block' : 'none';\n",
              "\n",
              "        async function convertToInteractive(key) {\n",
              "          const element = document.querySelector('#df-a6988161-1517-4472-ae3f-67db28ee3076');\n",
              "          const dataTable =\n",
              "            await google.colab.kernel.invokeFunction('convertToInteractive',\n",
              "                                                     [key], {});\n",
              "          if (!dataTable) return;\n",
              "\n",
              "          const docLinkHtml = 'Like what you see? Visit the ' +\n",
              "            '<a target=\"_blank\" href=https://colab.research.google.com/notebooks/data_table.ipynb>data table notebook</a>'\n",
              "            + ' to learn more about interactive tables.';\n",
              "          element.innerHTML = '';\n",
              "          dataTable['output_type'] = 'display_data';\n",
              "          await google.colab.output.renderOutput(dataTable, element);\n",
              "          const docLink = document.createElement('div');\n",
              "          docLink.innerHTML = docLinkHtml;\n",
              "          element.appendChild(docLink);\n",
              "        }\n",
              "      </script>\n",
              "    </div>\n",
              "  </div>\n",
              "  "
            ]
          },
          "metadata": {},
          "execution_count": 145
        }
      ]
    },
    {
      "cell_type": "code",
      "source": [
        "# рассчитаем метрику accuracy вручную\n",
        "round((111 + 149)/(111 + 149 + 27 + 16), 3)"
      ],
      "metadata": {
        "colab": {
          "base_uri": "https://localhost:8080/"
        },
        "id": "9hOLvYoiy7OI",
        "outputId": "ffb40e92-adee-4431-be86-7bebc2935aff"
      },
      "execution_count": 146,
      "outputs": [
        {
          "output_type": "execute_result",
          "data": {
            "text/plain": [
              "0.858"
            ]
          },
          "metadata": {},
          "execution_count": 146
        }
      ]
    },
    {
      "cell_type": "code",
      "source": [
        "# импортируем метрику accuracy из sklearn\n",
        "from sklearn.metrics import accuracy_score\n",
        "\n",
        "# так же передадим ей фактические и прогнозные значения\n",
        "model_accuracy = accuracy_score(y_heart, y_pred_heart)\n",
        "\n",
        "# округлим до трех знаков после запятой\n",
        "round(model_accuracy, 3)"
      ],
      "metadata": {
        "colab": {
          "base_uri": "https://localhost:8080/"
        },
        "id": "3aW2n2ZjzH4v",
        "outputId": "8df3d231-ec74-433c-b2ab-ec08dd5d7205"
      },
      "execution_count": 147,
      "outputs": [
        {
          "output_type": "execute_result",
          "data": {
            "text/plain": [
              "0.858"
            ]
          },
          "metadata": {},
          "execution_count": 147
        }
      ]
    },
    {
      "cell_type": "markdown",
      "source": [
        "####4. Building a prediction on a test sample"
      ],
      "metadata": {
        "id": "KP1vLFZJzPlf"
      }
    },
    {
      "cell_type": "code",
      "source": [
        "# посмотрим на тестовые данные\n",
        "heart.info()"
      ],
      "metadata": {
        "colab": {
          "base_uri": "https://localhost:8080/"
        },
        "id": "u52Vdofjzfxh",
        "outputId": "726071a5-9e3b-424e-84eb-c70ec12a8b6e"
      },
      "execution_count": 149,
      "outputs": [
        {
          "output_type": "stream",
          "name": "stdout",
          "text": [
            "<class 'pandas.core.frame.DataFrame'>\n",
            "RangeIndex: 303 entries, 0 to 302\n",
            "Data columns (total 19 columns):\n",
            " #   Column  Non-Null Count  Dtype  \n",
            "---  ------  --------------  -----  \n",
            " 0   age     303 non-null    float64\n",
            " 1   sex     303 non-null    int64  \n",
            " 2   exng    303 non-null    int64  \n",
            " 3   caa     303 non-null    int64  \n",
            " 4   output  303 non-null    int64  \n",
            " 5   1       303 non-null    uint8  \n",
            " 6   2       303 non-null    uint8  \n",
            " 7   3       303 non-null    uint8  \n",
            " 8   1       303 non-null    uint8  \n",
            " 9   2       303 non-null    uint8  \n",
            " 10  1       303 non-null    uint8  \n",
            " 11  2       303 non-null    uint8  \n",
            " 12  3       303 non-null    uint8  \n",
            " 13  1       303 non-null    uint8  \n",
            " 14  2       303 non-null    uint8  \n",
            " 15  diff    303 non-null    float64\n",
            " 16  1       303 non-null    uint8  \n",
            " 17  2       303 non-null    uint8  \n",
            " 18  3       303 non-null    uint8  \n",
            "dtypes: float64(2), int64(4), uint8(13)\n",
            "memory usage: 18.2 KB\n"
          ]
        }
      ]
    },
    {
      "cell_type": "markdown",
      "source": [
        "Шаг 4 я пропустила, так как не имею тестовую выборку."
      ],
      "metadata": {
        "id": "XYMEJ3Giz7pM"
      }
    },
    {
      "cell_type": "markdown",
      "source": [
        "###Step 4. Saving a new file on the Google server"
      ],
      "metadata": {
        "id": "xyITvolG0A2E"
      }
    },
    {
      "cell_type": "markdown",
      "source": [
        "Создание файла с прогнозом"
      ],
      "metadata": {
        "id": "dp7oDKJC0hWa"
      }
    },
    {
      "cell_type": "code",
      "source": [
        "# у меня нет id пациента, вместо него возьму возраст\n",
        "age = heart['age']\n",
        "\n",
        "# создадим датафрейм из словаря, в котором\n",
        "# первая пара ключа и значения - это age пассажира, вторая - прогноз \"на тесте\"\n",
        "result = pd.DataFrame({'age': age, 'output': y_pred_heart})\n",
        "\n",
        "# посмотрим, что получилось\n",
        "result.head()"
      ],
      "metadata": {
        "colab": {
          "base_uri": "https://localhost:8080/",
          "height": 206
        },
        "id": "RV2VBEpK16oI",
        "outputId": "efcf80b8-2b5e-4782-ccbe-a6b317004c54"
      },
      "execution_count": 151,
      "outputs": [
        {
          "output_type": "execute_result",
          "data": {
            "text/plain": [
              "        age  output\n",
              "0  0.952197       1\n",
              "1 -1.915313       1\n",
              "2 -1.474158       1\n",
              "3  0.180175       1\n",
              "4  0.290464       1"
            ],
            "text/html": [
              "\n",
              "  <div id=\"df-d59dffa0-be4f-450b-91f8-fff8b9fb566a\">\n",
              "    <div class=\"colab-df-container\">\n",
              "      <div>\n",
              "<style scoped>\n",
              "    .dataframe tbody tr th:only-of-type {\n",
              "        vertical-align: middle;\n",
              "    }\n",
              "\n",
              "    .dataframe tbody tr th {\n",
              "        vertical-align: top;\n",
              "    }\n",
              "\n",
              "    .dataframe thead th {\n",
              "        text-align: right;\n",
              "    }\n",
              "</style>\n",
              "<table border=\"1\" class=\"dataframe\">\n",
              "  <thead>\n",
              "    <tr style=\"text-align: right;\">\n",
              "      <th></th>\n",
              "      <th>age</th>\n",
              "      <th>output</th>\n",
              "    </tr>\n",
              "  </thead>\n",
              "  <tbody>\n",
              "    <tr>\n",
              "      <th>0</th>\n",
              "      <td>0.952197</td>\n",
              "      <td>1</td>\n",
              "    </tr>\n",
              "    <tr>\n",
              "      <th>1</th>\n",
              "      <td>-1.915313</td>\n",
              "      <td>1</td>\n",
              "    </tr>\n",
              "    <tr>\n",
              "      <th>2</th>\n",
              "      <td>-1.474158</td>\n",
              "      <td>1</td>\n",
              "    </tr>\n",
              "    <tr>\n",
              "      <th>3</th>\n",
              "      <td>0.180175</td>\n",
              "      <td>1</td>\n",
              "    </tr>\n",
              "    <tr>\n",
              "      <th>4</th>\n",
              "      <td>0.290464</td>\n",
              "      <td>1</td>\n",
              "    </tr>\n",
              "  </tbody>\n",
              "</table>\n",
              "</div>\n",
              "      <button class=\"colab-df-convert\" onclick=\"convertToInteractive('df-d59dffa0-be4f-450b-91f8-fff8b9fb566a')\"\n",
              "              title=\"Convert this dataframe to an interactive table.\"\n",
              "              style=\"display:none;\">\n",
              "        \n",
              "  <svg xmlns=\"http://www.w3.org/2000/svg\" height=\"24px\"viewBox=\"0 0 24 24\"\n",
              "       width=\"24px\">\n",
              "    <path d=\"M0 0h24v24H0V0z\" fill=\"none\"/>\n",
              "    <path d=\"M18.56 5.44l.94 2.06.94-2.06 2.06-.94-2.06-.94-.94-2.06-.94 2.06-2.06.94zm-11 1L8.5 8.5l.94-2.06 2.06-.94-2.06-.94L8.5 2.5l-.94 2.06-2.06.94zm10 10l.94 2.06.94-2.06 2.06-.94-2.06-.94-.94-2.06-.94 2.06-2.06.94z\"/><path d=\"M17.41 7.96l-1.37-1.37c-.4-.4-.92-.59-1.43-.59-.52 0-1.04.2-1.43.59L10.3 9.45l-7.72 7.72c-.78.78-.78 2.05 0 2.83L4 21.41c.39.39.9.59 1.41.59.51 0 1.02-.2 1.41-.59l7.78-7.78 2.81-2.81c.8-.78.8-2.07 0-2.86zM5.41 20L4 18.59l7.72-7.72 1.47 1.35L5.41 20z\"/>\n",
              "  </svg>\n",
              "      </button>\n",
              "      \n",
              "  <style>\n",
              "    .colab-df-container {\n",
              "      display:flex;\n",
              "      flex-wrap:wrap;\n",
              "      gap: 12px;\n",
              "    }\n",
              "\n",
              "    .colab-df-convert {\n",
              "      background-color: #E8F0FE;\n",
              "      border: none;\n",
              "      border-radius: 50%;\n",
              "      cursor: pointer;\n",
              "      display: none;\n",
              "      fill: #1967D2;\n",
              "      height: 32px;\n",
              "      padding: 0 0 0 0;\n",
              "      width: 32px;\n",
              "    }\n",
              "\n",
              "    .colab-df-convert:hover {\n",
              "      background-color: #E2EBFA;\n",
              "      box-shadow: 0px 1px 2px rgba(60, 64, 67, 0.3), 0px 1px 3px 1px rgba(60, 64, 67, 0.15);\n",
              "      fill: #174EA6;\n",
              "    }\n",
              "\n",
              "    [theme=dark] .colab-df-convert {\n",
              "      background-color: #3B4455;\n",
              "      fill: #D2E3FC;\n",
              "    }\n",
              "\n",
              "    [theme=dark] .colab-df-convert:hover {\n",
              "      background-color: #434B5C;\n",
              "      box-shadow: 0px 1px 3px 1px rgba(0, 0, 0, 0.15);\n",
              "      filter: drop-shadow(0px 1px 2px rgba(0, 0, 0, 0.3));\n",
              "      fill: #FFFFFF;\n",
              "    }\n",
              "  </style>\n",
              "\n",
              "      <script>\n",
              "        const buttonEl =\n",
              "          document.querySelector('#df-d59dffa0-be4f-450b-91f8-fff8b9fb566a button.colab-df-convert');\n",
              "        buttonEl.style.display =\n",
              "          google.colab.kernel.accessAllowed ? 'block' : 'none';\n",
              "\n",
              "        async function convertToInteractive(key) {\n",
              "          const element = document.querySelector('#df-d59dffa0-be4f-450b-91f8-fff8b9fb566a');\n",
              "          const dataTable =\n",
              "            await google.colab.kernel.invokeFunction('convertToInteractive',\n",
              "                                                     [key], {});\n",
              "          if (!dataTable) return;\n",
              "\n",
              "          const docLinkHtml = 'Like what you see? Visit the ' +\n",
              "            '<a target=\"_blank\" href=https://colab.research.google.com/notebooks/data_table.ipynb>data table notebook</a>'\n",
              "            + ' to learn more about interactive tables.';\n",
              "          element.innerHTML = '';\n",
              "          dataTable['output_type'] = 'display_data';\n",
              "          await google.colab.output.renderOutput(dataTable, element);\n",
              "          const docLink = document.createElement('div');\n",
              "          docLink.innerHTML = docLinkHtml;\n",
              "          element.appendChild(docLink);\n",
              "        }\n",
              "      </script>\n",
              "    </div>\n",
              "  </div>\n",
              "  "
            ]
          },
          "metadata": {},
          "execution_count": 151
        }
      ]
    },
    {
      "cell_type": "code",
      "source": [
        "# создадим новый файл result.csv с помощью функции to_csv(), удалив при этом индекс\n",
        "result.to_csv('result.csv', index = False)\n",
        "\n",
        "# файл будет сохранен в 'Сессионном хранилище' и, если все пройдет успешно, выведем следующий текст:\n",
        "print('Файл успешно сохранился в сессионное хранилище!')"
      ],
      "metadata": {
        "colab": {
          "base_uri": "https://localhost:8080/"
        },
        "id": "uAwpqwwx2CXM",
        "outputId": "7211b993-cf7e-4ac5-c869-1ca21c4d3e24"
      },
      "execution_count": 152,
      "outputs": [
        {
          "output_type": "stream",
          "name": "stdout",
          "text": [
            "Файл успешно сохранился в сессионное хранилище!\n"
          ]
        }
      ]
    },
    {
      "cell_type": "markdown",
      "source": [
        "###Step 5. Downloading back to HDD"
      ],
      "metadata": {
        "id": "G9ha6jTz2T-p"
      }
    },
    {
      "cell_type": "code",
      "source": [
        "# применим метод .download() объекта files\n",
        "files.download('/content/result.csv')"
      ],
      "metadata": {
        "colab": {
          "base_uri": "https://localhost:8080/",
          "height": 17
        },
        "id": "ipIcWPit2izi",
        "outputId": "b809e349-a493-435e-b136-82093f893cf6"
      },
      "execution_count": 153,
      "outputs": [
        {
          "output_type": "display_data",
          "data": {
            "text/plain": [
              "<IPython.core.display.Javascript object>"
            ],
            "application/javascript": [
              "\n",
              "    async function download(id, filename, size) {\n",
              "      if (!google.colab.kernel.accessAllowed) {\n",
              "        return;\n",
              "      }\n",
              "      const div = document.createElement('div');\n",
              "      const label = document.createElement('label');\n",
              "      label.textContent = `Downloading \"${filename}\": `;\n",
              "      div.appendChild(label);\n",
              "      const progress = document.createElement('progress');\n",
              "      progress.max = size;\n",
              "      div.appendChild(progress);\n",
              "      document.body.appendChild(div);\n",
              "\n",
              "      const buffers = [];\n",
              "      let downloaded = 0;\n",
              "\n",
              "      const channel = await google.colab.kernel.comms.open(id);\n",
              "      // Send a message to notify the kernel that we're ready.\n",
              "      channel.send({})\n",
              "\n",
              "      for await (const message of channel.messages) {\n",
              "        // Send a message to notify the kernel that we're ready.\n",
              "        channel.send({})\n",
              "        if (message.buffers) {\n",
              "          for (const buffer of message.buffers) {\n",
              "            buffers.push(buffer);\n",
              "            downloaded += buffer.byteLength;\n",
              "            progress.value = downloaded;\n",
              "          }\n",
              "        }\n",
              "      }\n",
              "      const blob = new Blob(buffers, {type: 'application/binary'});\n",
              "      const a = document.createElement('a');\n",
              "      a.href = window.URL.createObjectURL(blob);\n",
              "      a.download = filename;\n",
              "      div.appendChild(a);\n",
              "      a.click();\n",
              "      div.remove();\n",
              "    }\n",
              "  "
            ]
          },
          "metadata": {}
        },
        {
          "output_type": "display_data",
          "data": {
            "text/plain": [
              "<IPython.core.display.Javascript object>"
            ],
            "application/javascript": [
              "download(\"download_bb656d9e-7a99-4134-add4-2e33633ce10a\", \"result.csv\", 6599)"
            ]
          },
          "metadata": {}
        }
      ]
    }
  ]
}